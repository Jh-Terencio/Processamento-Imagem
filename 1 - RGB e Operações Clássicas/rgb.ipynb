{
 "cells": [
  {
   "cell_type": "markdown",
   "metadata": {},
   "source": [
    "# Processamento de Imagem (RGB e Operações Clássicas)\n",
    "\n",
    "*Ultima modificação em em 2025-08-26*\n",
    "\n",
    "Este notebook  organiza e documenta seu conteúdo original, adicionando seções temáticas e\n",
    "comentários didáticos. Cada seção explica **o objetivo**, **quando usar** e **armadilhas comuns**.  \n",
    "Os blocos de código foram preservados e precedidos de um resumo rápido do que fazem."
   ]
  },
  {
   "cell_type": "markdown",
   "metadata": {},
   "source": [
    "## Importações"
   ]
  },
  {
   "cell_type": "code",
   "execution_count": 1,
   "metadata": {},
   "outputs": [],
   "source": [
    "import cv2 as cv\n",
    "import numpy as np\n",
    "import matplotlib.pyplot as plt\n",
    "from pathlib import Path"
   ]
  },
  {
   "cell_type": "markdown",
   "metadata": {},
   "source": [
    "## Codigo"
   ]
  },
  {
   "cell_type": "markdown",
   "metadata": {},
   "source": [
    "### Leitura da imagem"
   ]
  },
  {
   "cell_type": "code",
   "execution_count": 2,
   "metadata": {},
   "outputs": [
    {
     "name": "stdout",
     "output_type": "stream",
     "text": [
      "Imagem carregada com sucesso!\n"
     ]
    }
   ],
   "source": [
    "IMG_PATH = Path(\"bruxo.jfif\")\n",
    "\n",
    "image = cv.imread(str(IMG_PATH), cv.IMREAD_COLOR)\n",
    "\n",
    "if image is None:\n",
    "    raise FileNotFoundError(f\"Não consegui ler o arquivo: {IMG_PATH.resolve()}\")\n",
    "\n",
    "print(\"Imagem carregada com sucesso!\")"
   ]
  },
  {
   "cell_type": "markdown",
   "metadata": {},
   "source": [
    "### Análise exploratória"
   ]
  },
  {
   "cell_type": "code",
   "execution_count": 3,
   "metadata": {},
   "outputs": [
    {
     "name": "stdout",
     "output_type": "stream",
     "text": [
      "Largura em pixels: 225\n",
      "Altura em pixels: 224\n",
      "Quantidade de pixels: 50400\n",
      "Quantidade de elementos presentes na matriz: 151200\n",
      "Quantidade de canais: 3\n"
     ]
    }
   ],
   "source": [
    "# ---- Resolução da imagem -------\n",
    "# Em OpenCV, a ordem do shape é (altura, largura, canais)\n",
    "# Altura  -> número de linhas (pixels na vertical)\n",
    "# Largura -> número de colunas (pixels na horizontal)\n",
    "\n",
    "print('Largura em pixels: ', end='')   # Número de linhas (altura)\n",
    "print(image.shape[0])\n",
    "\n",
    "print('Altura em pixels: ', end='')    # Número de colunas (largura)\n",
    "print(image.shape[1])\n",
    "\n",
    "# Quantidade total de pixels (sem contar os canais)\n",
    "print('Quantidade de pixels: ', end='')\n",
    "print(image.shape[0] * image.shape[1])\n",
    "\n",
    "# Quantidade de elementos na matriz (altura * largura * canais)\n",
    "# Similar ao produto: image.shape[0] * image.shape[1] * image.shape[2]\n",
    "print(\"Quantidade de elementos presentes na matriz: \", end='')\n",
    "print(image.size)\n",
    "# ---------------------------------\n",
    "\n",
    "# Quantidade de canais da imagem\n",
    "# Imagem colorida RGB -> 3 canais\n",
    "# Imagem em escala de cinza -> 1 canal\n",
    "print('Quantidade de canais: ', end='')\n",
    "print(image.shape[2])\n"
   ]
  },
  {
   "cell_type": "code",
   "execution_count": 4,
   "metadata": {},
   "outputs": [
    {
     "name": "stdout",
     "output_type": "stream",
     "text": [
      "Tupla correspondente ao pixel [0,0] - [28 28 34]\n"
     ]
    }
   ],
   "source": [
    "# Pixel na coordenada [0,0] = canto superior esquerdo\n",
    "# Retorna uma tupla (B, G, R) porque o OpenCV usa a ordem de canais BGR.\n",
    "print(\"Tupla correspondente ao pixel [0,0] - \", end='')\n",
    "print(image[0, 0])"
   ]
  },
  {
   "cell_type": "code",
   "execution_count": 5,
   "metadata": {},
   "outputs": [
    {
     "data": {
      "text/plain": [
       "-1"
      ]
     },
     "execution_count": 5,
     "metadata": {},
     "output_type": "execute_result"
    }
   ],
   "source": [
    "# Mostra a imagem \n",
    "cv.imshow(\"Janela da image\", image)\n",
    "cv.waitKey(0) # Precisa desse trecho se não, não vai funcionar"
   ]
  },
  {
   "cell_type": "markdown",
   "metadata": {},
   "source": [
    "### Canais de cor (BGR no OpenCV) \n",
    "* Em uma **imagem colorida**, cada **pixel** é representado por uma **tupla de 3 valores inteiros** (0–255). \n",
    "* Cada valor corresponde à **intensidade** de um dos **canais de cor**. \n",
    "* **Atenção:** no **OpenCV** a ordem é **BGR** (Blue, Green, Red), e não RGB como é comum em outras bibliotecas. \n",
    "\n",
    "Exemplo: Se o pixel `[0,0]` retornar a tupla `(28, 28, 34)`, isso significa: \n",
    "* Azul (B) = 28* Azul (G) = 28\n",
    "* Azul (R) = 34"
   ]
  },
  {
   "cell_type": "markdown",
   "metadata": {},
   "source": [
    "#### Criando matrizes para isolar canais \n",
    "* Vamos criar **3 matrizes tridimensionais** (altura × largura × canais), todas inicialmente preenchidas com zeros. \n",
    "* Essas matrizes terão **o mesmo tamanho da imagem original**, mas só receberão valores em **um único canal**: \n",
    "  * `blueChannel` → somente intensidades de azul (canal 0) \n",
    "  * `greenChannel` → somente intensidades de verde (canal 1) \n",
    "  * `redChannel` → somente intensidades de vermelho (canal 2)"
   ]
  },
  {
   "cell_type": "code",
   "execution_count": 6,
   "metadata": {},
   "outputs": [],
   "source": [
    "blueChannel = np.zeros((image.shape[0], image.shape[1], image.shape[2]), dtype=np.uint8)\n",
    "greenChannel = np.zeros((image.shape[0], image.shape[1], image.shape[2]), dtype=np.uint8)\n",
    "redChannel = np.zeros((image.shape[0], image.shape[1], image.shape[2]), dtype=np.uint8)"
   ]
  },
  {
   "cell_type": "markdown",
   "metadata": {},
   "source": [
    "#### Preenchimento dos canais \n",
    "* Percorremos todos os pixels da imagem (`image[:,:, :]`) e copiamos apenas o valor referente ao canal desejado. \n",
    "* Nos outros canais, mantemos o valor **zero** (preto). \n",
    "* Isso faz com que ao exibir cada matriz, vejamos **a contribuição isolada de cada cor**. Exemplo visual esperado: \n",
    "  * **Canal Azul:** regiões azuladas ficam mais claras, o restante tende a preto. \n",
    "  * **Canal Verde:** regiões verdes se destacam. \n",
    "  * **Canal Vermelho:** regiões avermelhadas ficam mais intensas.”\n",
    "\n",
    "**Exemplo prático:** Suponha que o resultado ao imprimir o pixel `[0,0]` foi: `[28 28 34]` \n",
    "\n",
    "Isso significa: * **B(0) = 28** * **G(1) = 28** * **R(2) = 34**”"
   ]
  },
  {
   "cell_type": "code",
   "execution_count": 7,
   "metadata": {},
   "outputs": [],
   "source": [
    "blueChannel[:,:,0] = image[:,:,0]\n",
    "greenChannel[:,:,1] = image[:,:,1]\n",
    "redChannel[:,:,2] = image[:,:,2]"
   ]
  },
  {
   "cell_type": "code",
   "execution_count": 8,
   "metadata": {},
   "outputs": [
    {
     "data": {
      "text/plain": [
       "-1"
      ]
     },
     "execution_count": 8,
     "metadata": {},
     "output_type": "execute_result"
    }
   ],
   "source": [
    "cv.imshow(\"Canal azul\", blueChannel)\n",
    "cv.imshow(\"Canal verde\", greenChannel)\n",
    "cv.imshow(\"Canal vermelho\", redChannel)\n",
    "cv.waitKey(0)"
   ]
  },
  {
   "cell_type": "markdown",
   "metadata": {},
   "source": [
    "##### Extra\n",
    "\n",
    "Isso foi um extra que fiz testando o que aconteceria caso eu somasse os 3. O resultado foi a imagem original"
   ]
  },
  {
   "cell_type": "code",
   "execution_count": 9,
   "metadata": {},
   "outputs": [],
   "source": [
    "recreatedImage = blueChannel+greenChannel+redChannel"
   ]
  },
  {
   "cell_type": "code",
   "execution_count": 10,
   "metadata": {},
   "outputs": [
    {
     "data": {
      "text/plain": [
       "-1"
      ]
     },
     "execution_count": 10,
     "metadata": {},
     "output_type": "execute_result"
    }
   ],
   "source": [
    "cv.imshow(\"Imagem recriada\", recreatedImage)\n",
    "cv.waitKey(0)"
   ]
  },
  {
   "cell_type": "markdown",
   "metadata": {},
   "source": [
    "### Tornando a imagem em escala de cinza\n",
    "Agora, em vez de visualizar os canais separadamente (azul, verde e vermelho), vamos fundir a contribuição de todos eles em uma única intensidade de cinza.\n",
    "* Criamos uma matriz 2D (altura × largura) chamada grayChannel, que armazena apenas um valor por pixel.\n",
    "* Esse valor corresponde à média aritmética dos três canais (B, G, R).\n",
    "* Ou seja, cada pixel deixa de ter 3 números (um para cada cor) e passa a ter apenas 1 número (0–255) representando sua tonalidade em cinza."
   ]
  },
  {
   "cell_type": "code",
   "execution_count": 11,
   "metadata": {},
   "outputs": [
    {
     "data": {
      "text/plain": [
       "-1"
      ]
     },
     "execution_count": 11,
     "metadata": {},
     "output_type": "execute_result"
    }
   ],
   "source": [
    "grayChannel = np.zeros((image.shape[0], image.shape[1]), dtype=np.uint8)\n",
    "\n",
    "for i in range(image.shape[0]):      # percorre as linhas (altura)\n",
    "    for j in range(image.shape[1]):  # percorre as colunas (largura)\n",
    "        # Média simples dos três canais (B+G+R)/3\n",
    "        grayChannel[i, j] = (image[i, j].sum() // 3)\n",
    "\n",
    "cv.imshow(\"Imagem recriada\", grayChannel)\n",
    "cv.waitKey(0)"
   ]
  },
  {
   "cell_type": "markdown",
   "metadata": {},
   "source": [
    "## Histograma da imagem\n",
    "O histograma de uma imagem mostra a distribuição da intensidade dos pixels.\n",
    "* No eixo x: valores de intensidade (0–255).\n",
    "* No eixo y: quantidade de pixels que possuem aquela intensidade.\n",
    "\n",
    "#### Interpretação:\n",
    "* Imagem com pouco contraste → histograma concentrado em uma faixa estreita de valores.\n",
    "* Imagem com muito contraste → histograma mais espalhado, cobrindo quase toda a faixa (0–255)."
   ]
  },
  {
   "cell_type": "markdown",
   "metadata": {},
   "source": [
    "#### Explicação resumida\n",
    "1. Criamos uma lista com 256 posições (uma para cada intensidade possível de pixel).\n",
    "2. Percorremos todos os pixels da imagem:\n",
    "3. Se for imagem em cinza, incrementamos diretamente a posição correspondente.\n",
    "4. Se for imagem colorida, escolhemos o canal desejado (0=Azul, 1=Verde, 2=Vermelho).\n",
    "5. Retornamos essa lista como o histograma do canal."
   ]
  },
  {
   "cell_type": "code",
   "execution_count": 34,
   "metadata": {},
   "outputs": [],
   "source": [
    "def histograma(matriz, posicao=None):\n",
    "    if posicao == None:\n",
    "        array = 256*[0]\n",
    "        for i in range (matriz.shape[0]):\n",
    "            for j in range (matriz.shape[1]):\n",
    "                valor = matriz[i,j]\n",
    "                array[valor] += 1\n",
    "    else:\n",
    "        array = 256*[0]\n",
    "        for i in range (matriz.shape[0]):\n",
    "            for j in range (matriz.shape[1]):\n",
    "                valor = matriz[i,j][posicao]\n",
    "                array[valor] += 1\n",
    "                \n",
    "    return array"
   ]
  },
  {
   "cell_type": "code",
   "execution_count": 35,
   "metadata": {},
   "outputs": [
    {
     "data": {
      "image/png": "[encoded data removed]",
      "text/plain": [
       "<Figure size 640x480 with 1 Axes>"
      ]
     },
     "metadata": {},
     "output_type": "display_data"
    },
    {
     "data": {
      "image/png": "[encoded data removed]",
      "text/plain": [
       "<Figure size 640x480 with 1 Axes>"
      ]
     },
     "metadata": {},
     "output_type": "display_data"
    },
    {
     "data": {
      "image/png": "[encoded data removed]",
      "text/plain": [
       "<Figure size 640x480 with 1 Axes>"
      ]
     },
     "metadata": {},
     "output_type": "display_data"
    },
    {
     "data": {
      "image/png": "[encoded data removed]",
      "text/plain": [
       "<Figure size 640x480 with 1 Axes>"
      ]
     },
     "metadata": {},
     "output_type": "display_data"
    }
   ],
   "source": [
    "pixel = 256*[0]\n",
    "\n",
    "for i in range(256):\n",
    "    pixel[i] = i\n",
    "    \n",
    "colors = ['blue', 'green', 'red', 'gray']\n",
    "channels = {'blue': blueChannel, 'green': greenChannel, 'red': redChannel, 'gray': grayChannel}\n",
    "channel_indices = {\n",
    "    'blue': 0,\n",
    "    'green': 1,\n",
    "    'red': 2\n",
    "}\n",
    " \n",
    "plt.xlabel('Pixel')\n",
    "plt.ylabel('Quantidade')\n",
    "\n",
    "for color in colors:\n",
    "    plt.title(f'Histograma da imagem em tons de {color}')\n",
    "    if color == 'gray':\n",
    "        plt.bar(pixel, histograma(channels[color]), color=color, alpha=0.5, label=color)\n",
    "    else:\n",
    "        plt.bar(pixel, histograma(channels[color], channel_indices[color]), color=color.lower(), alpha=0.5, label=color)\n",
    "    plt.show()\n",
    "    "
   ]
  }
 ],
 "metadata": {
  "kernelspec": {
   "display_name": "venv",
   "language": "python",
   "name": "python3"
  },
  "language_info": {
   "codemirror_mode": {
    "name": "ipython",
    "version": 3
   },
   "file_extension": ".py",
   "mimetype": "text/x-python",
   "name": "python",
   "nbconvert_exporter": "python",
   "pygments_lexer": "ipython3",
   "version": "3.12.4"
  }
 },
 "nbformat": 4,
 "nbformat_minor": 2
}
