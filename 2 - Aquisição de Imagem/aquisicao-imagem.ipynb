{
 "cells": [
  {
   "cell_type": "markdown",
   "metadata": {},
   "source": [
    "# Aquisição de imagem\n",
    "\n",
    "*Ultima modificação em em 2025-09-02*\n"
   ]
  },
  {
   "cell_type": "markdown",
   "metadata": {},
   "source": [
    "## Importações"
   ]
  },
  {
   "cell_type": "code",
   "execution_count": 1,
   "metadata": {},
   "outputs": [],
   "source": [
    "import cv2 as cv\n",
    "import numpy as np\n",
    "import matplotlib.pyplot as plt\n",
    "import sys\n",
    "from pathlib import Path\n",
    "\n",
    "sys.path.append(str(Path().resolve().parent))\n",
    "\n",
    "import utils as ut"
   ]
  },
  {
   "cell_type": "markdown",
   "metadata": {},
   "source": [
    "## Codigo"
   ]
  },
  {
   "cell_type": "markdown",
   "metadata": {},
   "source": [
    "### Leitura da imagem"
   ]
  },
  {
   "cell_type": "code",
   "execution_count": 2,
   "metadata": {},
   "outputs": [
    {
     "name": "stdout",
     "output_type": "stream",
     "text": [
      "Imagem carregada com sucesso!\n"
     ]
    }
   ],
   "source": [
    "IMG_PATH = Path(\"ying-yang.jpg\")\n",
    "\n",
    "image = cv.imread(str(IMG_PATH), cv.IMREAD_COLOR)\n",
    "\n",
    "if image is None:\n",
    "    raise FileNotFoundError(f\"Não consegui ler o arquivo: {IMG_PATH.resolve()}\")\n",
    "\n",
    "print(\"Imagem carregada com sucesso!\")"
   ]
  },
  {
   "cell_type": "markdown",
   "metadata": {},
   "source": [
    "### Análise exploratória"
   ]
  },
  {
   "cell_type": "code",
   "execution_count": 3,
   "metadata": {},
   "outputs": [
    {
     "name": "stdout",
     "output_type": "stream",
     "text": [
      "Largura em pixels: 603\n",
      "Altura em pixels: 612\n",
      "Quantidade de pixels: 369036\n",
      "Quantidade de elementos presentes na matriz: 1107108\n",
      "Quantidade de canais: 3\n"
     ]
    }
   ],
   "source": [
    "ut.eda_image(image)"
   ]
  },
  {
   "cell_type": "markdown",
   "metadata": {},
   "source": [
    "## Tornando a imagem em escala de cinza\n",
    "Agora, em vez de visualizar os canais separadamente (azul, verde e vermelho), vamos fundir a contribuição de todos eles em uma única intensidade de cinza.\n",
    "* Criamos uma matriz 2D (altura × largura) chamada grayChannel, que armazena apenas um valor por pixel.\n",
    "* Esse valor corresponde à média aritmética dos três canais (B, G, R).\n",
    "* Ou seja, cada pixel deixa de ter 3 números (um para cada cor) e passa a ter apenas 1 número (0–255) representando sua tonalidade em cinza."
   ]
  },
  {
   "cell_type": "code",
   "execution_count": 3,
   "metadata": {},
   "outputs": [
    {
     "data": {
      "text/plain": [
       "-1"
      ]
     },
     "execution_count": 3,
     "metadata": {},
     "output_type": "execute_result"
    }
   ],
   "source": [
    "grayChannel = ut.generate_gray_channel(image)\n",
    "\n",
    "cv.imshow(\"Imagem recriada\", grayChannel)\n",
    "cv.waitKey(0)"
   ]
  },
  {
   "cell_type": "markdown",
   "metadata": {},
   "source": [
    "### Histograma da imagem"
   ]
  },
  {
   "cell_type": "code",
   "execution_count": 5,
   "metadata": {},
   "outputs": [
    {
     "data": {
      "image/png": "[encoded data removed]",
      "text/plain": [
       "<Figure size 640x480 with 1 Axes>"
      ]
     },
     "metadata": {},
     "output_type": "display_data"
    }
   ],
   "source": [
    "pixel = 256*[0]\n",
    "\n",
    "for i in range(256):\n",
    "    pixel[i] = i\n",
    "\n",
    "plt.title(f'Histograma da imagem em tons de ')\n",
    "plt.bar(pixel, ut.histograma(grayChannel), alpha=0.5,)\n",
    "plt.show()"
   ]
  },
  {
   "cell_type": "markdown",
   "metadata": {},
   "source": [
    "## Removendo limiar"
   ]
  },
  {
   "cell_type": "code",
   "execution_count": 4,
   "metadata": {},
   "outputs": [],
   "source": [
    "grayCopy = grayChannel.copy()\n",
    "whiteThreshold = ut.remove_threshold(grayCopy, 140, mode='above')"
   ]
  },
  {
   "cell_type": "code",
   "execution_count": 5,
   "metadata": {},
   "outputs": [
    {
     "ename": "KeyboardInterrupt",
     "evalue": "",
     "output_type": "error",
     "traceback": [
      "\u001b[31m---------------------------------------------------------------------------\u001b[39m",
      "\u001b[31mKeyboardInterrupt\u001b[39m                         Traceback (most recent call last)",
      "\u001b[36mCell\u001b[39m\u001b[36m \u001b[39m\u001b[32mIn[5]\u001b[39m\u001b[32m, line 2\u001b[39m\n\u001b[32m      1\u001b[39m cv.imshow(\u001b[33m\"\u001b[39m\u001b[33mCanal branco\u001b[39m\u001b[33m\"\u001b[39m, whiteThreshold)\n\u001b[32m----> \u001b[39m\u001b[32m2\u001b[39m \u001b[43mcv\u001b[49m\u001b[43m.\u001b[49m\u001b[43mwaitKey\u001b[49m\u001b[43m(\u001b[49m\u001b[32;43m0\u001b[39;49m\u001b[43m)\u001b[49m\n",
      "\u001b[31mKeyboardInterrupt\u001b[39m: "
     ]
    }
   ],
   "source": [
    "cv.imshow(\"Canal branco\", whiteThreshold)\n",
    "cv.waitKey(0)"
   ]
  },
  {
   "cell_type": "code",
   "execution_count": 6,
   "metadata": {},
   "outputs": [],
   "source": [
    "grayCopy = grayChannel.copy()\n",
    "blackThreshold = ut.remove_threshold(grayCopy, 140, mode='below')"
   ]
  },
  {
   "cell_type": "code",
   "execution_count": 7,
   "metadata": {},
   "outputs": [
    {
     "data": {
      "text/plain": [
       "-1"
      ]
     },
     "execution_count": 7,
     "metadata": {},
     "output_type": "execute_result"
    }
   ],
   "source": [
    "cv.imshow(\"Canal preto\", blackThreshold)\n",
    "cv.waitKey(0)"
   ]
  },
  {
   "cell_type": "markdown",
   "metadata": {},
   "source": [
    "## 3 limiares"
   ]
  },
  {
   "cell_type": "code",
   "execution_count": 8,
   "metadata": {},
   "outputs": [
    {
     "name": "stdout",
     "output_type": "stream",
     "text": [
      "Imagem carregada com sucesso!\n"
     ]
    }
   ],
   "source": [
    "IMG_PATH = Path(\"jamaica.png\")\n",
    "\n",
    "image = cv.imread(str(IMG_PATH), cv.IMREAD_COLOR)\n",
    "\n",
    "if image is None:\n",
    "    raise FileNotFoundError(f\"Não consegui ler o arquivo: {IMG_PATH.resolve()}\")\n",
    "\n",
    "print(\"Imagem carregada com sucesso!\")"
   ]
  },
  {
   "cell_type": "code",
   "execution_count": 9,
   "metadata": {},
   "outputs": [
    {
     "data": {
      "text/plain": [
       "-1"
      ]
     },
     "execution_count": 9,
     "metadata": {},
     "output_type": "execute_result"
    }
   ],
   "source": [
    "cv.imshow(\"Bandeira da jamaica\", image)\n",
    "cv.waitKey(0)"
   ]
  },
  {
   "cell_type": "code",
   "execution_count": 11,
   "metadata": {},
   "outputs": [
    {
     "data": {
      "text/plain": [
       "-1"
      ]
     },
     "execution_count": 11,
     "metadata": {},
     "output_type": "execute_result"
    }
   ],
   "source": [
    "grayChannel = ut.generate_gray_channel(image)\n",
    "\n",
    "cv.imshow(\"Bandeira da jamaica cinza\", grayChannel)\n",
    "cv.waitKey(0)"
   ]
  },
  {
   "cell_type": "code",
   "execution_count": 12,
   "metadata": {},
   "outputs": [
    {
     "data": {
      "image/png": "[encoded data removed]",
      "text/plain": [
       "<Figure size 640x480 with 1 Axes>"
      ]
     },
     "metadata": {},
     "output_type": "display_data"
    }
   ],
   "source": [
    "pixel = 256*[0]\n",
    "\n",
    "for i in range(256):\n",
    "    pixel[i] = i\n",
    "\n",
    "plt.title(f'Histograma da imagem em tons de ')\n",
    "plt.bar(pixel, ut.histograma(grayChannel), alpha=0.5,)\n",
    "plt.show()"
   ]
  },
  {
   "cell_type": "code",
   "execution_count": 14,
   "metadata": {},
   "outputs": [],
   "source": [
    "grayCopy = grayChannel.copy()\n",
    "intervalThreshold = ut.remove_threshold(grayCopy, [(50, 100)])"
   ]
  },
  {
   "cell_type": "code",
   "execution_count": 15,
   "metadata": {},
   "outputs": [
    {
     "data": {
      "text/plain": [
       "-1"
      ]
     },
     "execution_count": 15,
     "metadata": {},
     "output_type": "execute_result"
    }
   ],
   "source": [
    "cv.imshow(\"Removendo 2 limeares\", intervalThreshold)\n",
    "cv.waitKey(0)"
   ]
  }
 ],
 "metadata": {
  "kernelspec": {
   "display_name": "venv",
   "language": "python",
   "name": "python3"
  },
  "language_info": {
   "codemirror_mode": {
    "name": "ipython",
    "version": 3
   },
   "file_extension": ".py",
   "mimetype": "text/x-python",
   "name": "python",
   "nbconvert_exporter": "python",
   "pygments_lexer": "ipython3",
   "version": "3.12.4"
  }
 },
 "nbformat": 4,
 "nbformat_minor": 2
}
