{
  "cells": [
    {
      "cell_type": "markdown",
      "metadata": {},
      "source": [
        "# Notebook 3 — Patches 32×32, Balanceamento e CNN (mini-MIAS)\n",
        "\n",
        "Este notebook continua o pipeline após o **Notebook 2 (equalização)**.\n",
        "\n",
        "## Objetivos\n",
        "1. **Carregar** as imagens **equalizadas** (ou pré-processadas) e seus metadados;\n",
        "2. **Extrair patches** de tamanho **32×32** com `stride` configurável, usando a máscara para evitar fundo;\n",
        "3. **Atribuir rótulos** por `SEVERITY` (Normal/Benign/Malignant) a partir do `preprocess_manifest.csv`;\n",
        "4. **Balancear** o dataset por classe usando **undersampling** até o tamanho da classe minoritária;\n",
        "5. **Split por REFNUM** (70/15/15) para evitar *data leakage* entre patches da mesma imagem;\n",
        "6. **Treinar uma CNN** simples (Keras) e **avaliar** com Accuracy, Precision, Recall, F1 e **matriz de confusão**.\n",
        "\n",
        "### Pré-requisitos\n",
        "- Notebook 1: `outputs_preproc/` existente (imagens e máscaras)\n",
        "- Notebook 2: `outputs_eq/<modo>/` existente com as equalizações ou usar as pré-processadas\n",
        "- `outputs_preproc/preprocess_manifest.csv` gerado\n"
      ]
    },
    {
      "cell_type": "code",
      "execution_count": 1,
      "metadata": {},
      "outputs": [
        {
          "name": "stdout",
          "output_type": "stream",
          "text": [
            "Usando equalização: clahe_test6\n"
          ]
        }
      ],
      "source": [
        "# ==== Configurações principais ====\n",
        "from pathlib import Path\n",
        "\n",
        "BASE_DIR = Path('.')\n",
        "PREPROC_DIR = BASE_DIR / 'outputs_preproc'\n",
        "PREPROC_IMG_DIR = PREPROC_DIR / 'images'\n",
        "PREPROC_MSK_DIR = PREPROC_DIR / 'masks'\n",
        "PREPROC_MANIFEST = PREPROC_DIR / 'preprocess_manifest.csv'\n",
        "\n",
        "# Use um dos modos abaixo gerados pelo Notebook 2, ou defina None para usar imagens pré-processadas\n",
        "EQUALIZATION_MODE = 'clahe_test6'   # opções: 'hiw_test1','hiw_test2','hiw_test3','clahe_test5','clahe_test6' ou None\n",
        "EQ_DIR = BASE_DIR / 'outputs_eq' / EQUALIZATION_MODE if EQUALIZATION_MODE else None\n",
        "\n",
        "# Extração de patches\n",
        "PATCH_SIZE = 32\n",
        "STRIDE = 32   # 16 para overlaps\n",
        "MASK_MIN_FRACTION = 0.6  # fração mínima de pixels da mama dentro do patch\n",
        "\n",
        "# Split por REFNUM (evita vazamento)\n",
        "SPLIT = {'train': 0.70, 'val': 0.15, 'test': 0.15}\n",
        "RANDOM_SEED = 42\n",
        "\n",
        "# Treino\n",
        "BATCH_SIZE = 64\n",
        "EPOCHS = 20\n",
        "LR = 1e-3\n",
        "\n",
        "print('Usando equalização:', EQUALIZATION_MODE)"
      ]
    },
    {
      "cell_type": "code",
      "execution_count": 4,
      "metadata": {
        "trusted": true
      },
      "outputs": [],
      "source": [
        "# ==== Imports ====\n",
        "import os, re, glob, random\n",
        "import numpy as np\n",
        "import pandas as pd\n",
        "import cv2\n",
        "from skimage import io\n",
        "import matplotlib.pyplot as plt\n",
        "\n",
        "import tensorflow as tf\n",
        "from tensorflow.keras import layers, models\n",
        "from sklearn.metrics import classification_report, confusion_matrix\n",
        "from sklearn.preprocessing import LabelEncoder\n",
        "\n",
        "np.random.seed(RANDOM_SEED)\n",
        "random.seed(RANDOM_SEED)\n",
        "tf.random.set_seed(RANDOM_SEED)\n"
      ]
    },
    {
      "cell_type": "code",
      "execution_count": 5,
      "metadata": {
        "trusted": true
      },
      "outputs": [],
      "source": [
        "# ==== Utilidades ====\n",
        "def read_gray_float01(path: Path):\n",
        "    img = io.imread(path)\n",
        "    if img.ndim == 3:\n",
        "        img = cv2.cvtColor(img, cv2.COLOR_RGB2GRAY)\n",
        "    img = img.astype(np.float32)\n",
        "    if img.max() > 1:\n",
        "        img = img / 255.0\n",
        "    return np.clip(img, 0.0, 1.0)\n",
        "\n",
        "def extract_refnum(filename:str):\n",
        "    base = os.path.basename(filename).lower()\n",
        "    m = re.search(r\"(mdb\\d{3})\", base)\n",
        "    return m.group(1) if m else os.path.splitext(base)[0]\n",
        "\n",
        "def ensure_dir(p: Path):\n",
        "    p.mkdir(parents=True, exist_ok=True)\n",
        "\n",
        "def as_uint8(img):\n",
        "    return (np.clip(img, 0, 1) * 255 + 0.5).astype(np.uint8)\n"
      ]
    },
    {
      "cell_type": "markdown",
      "metadata": {},
      "source": [
        "## 1) Carregar manifest e decidir a origem das imagens\n",
        "- Se `EQUALIZATION_MODE` for definido, vamos ler as imagens em `outputs_eq/<modo>/`.\n",
        "- Caso contrário, usaremos as imagens pré-processadas em `outputs_preproc/images/`.\n",
        "- Para filtrar patches, usamos a **máscara** correspondente de `outputs_preproc/masks/`."
      ]
    },
    {
      "cell_type": "code",
      "execution_count": 6,
      "metadata": {
        "trusted": true
      },
      "outputs": [
        {
          "name": "stdout",
          "output_type": "stream",
          "text": [
            "Linhas no manifest: 644\n"
          ]
        },
        {
          "data": {
            "text/html": [
              "<div>\n",
              "<style scoped>\n",
              "    .dataframe tbody tr th:only-of-type {\n",
              "        vertical-align: middle;\n",
              "    }\n",
              "\n",
              "    .dataframe tbody tr th {\n",
              "        vertical-align: top;\n",
              "    }\n",
              "\n",
              "    .dataframe thead th {\n",
              "        text-align: right;\n",
              "    }\n",
              "</style>\n",
              "<table border=\"1\" class=\"dataframe\">\n",
              "  <thead>\n",
              "    <tr style=\"text-align: right;\">\n",
              "      <th></th>\n",
              "      <th>REFNUM</th>\n",
              "      <th>output_img</th>\n",
              "      <th>output_mask</th>\n",
              "      <th>SEVERITY</th>\n",
              "      <th>DENSITY</th>\n",
              "      <th>CLASS</th>\n",
              "      <th>CLASS_GROUP</th>\n",
              "    </tr>\n",
              "  </thead>\n",
              "  <tbody>\n",
              "    <tr>\n",
              "      <th>0</th>\n",
              "      <td>mdb001</td>\n",
              "      <td>outputs_preproc\\images\\mdb001_preproc.png</td>\n",
              "      <td>outputs_preproc\\masks\\mdb001_mask.png</td>\n",
              "      <td>Benign</td>\n",
              "      <td>B</td>\n",
              "      <td>CIRC</td>\n",
              "      <td>Masses</td>\n",
              "    </tr>\n",
              "    <tr>\n",
              "      <th>1</th>\n",
              "      <td>mdb001</td>\n",
              "      <td>outputs_preproc\\images\\mdb001_preproc.png</td>\n",
              "      <td>outputs_preproc\\masks\\mdb001_mask.png</td>\n",
              "      <td>Benign</td>\n",
              "      <td>B</td>\n",
              "      <td>CIRC</td>\n",
              "      <td>Masses</td>\n",
              "    </tr>\n",
              "    <tr>\n",
              "      <th>2</th>\n",
              "      <td>mdb002</td>\n",
              "      <td>outputs_preproc\\images\\mdb002_preproc.png</td>\n",
              "      <td>outputs_preproc\\masks\\mdb002_mask.png</td>\n",
              "      <td>Benign</td>\n",
              "      <td>B</td>\n",
              "      <td>CIRC</td>\n",
              "      <td>Masses</td>\n",
              "    </tr>\n",
              "  </tbody>\n",
              "</table>\n",
              "</div>"
            ],
            "text/plain": [
              "   REFNUM                                 output_img  \\\n",
              "0  mdb001  outputs_preproc\\images\\mdb001_preproc.png   \n",
              "1  mdb001  outputs_preproc\\images\\mdb001_preproc.png   \n",
              "2  mdb002  outputs_preproc\\images\\mdb002_preproc.png   \n",
              "\n",
              "                             output_mask SEVERITY DENSITY CLASS CLASS_GROUP  \n",
              "0  outputs_preproc\\masks\\mdb001_mask.png   Benign       B  CIRC      Masses  \n",
              "1  outputs_preproc\\masks\\mdb001_mask.png   Benign       B  CIRC      Masses  \n",
              "2  outputs_preproc\\masks\\mdb002_mask.png   Benign       B  CIRC      Masses  "
            ]
          },
          "execution_count": 6,
          "metadata": {},
          "output_type": "execute_result"
        }
      ],
      "source": [
        "assert PREPROC_MANIFEST.is_file(), f\"Manifest não encontrado: {PREPROC_MANIFEST}\"\n",
        "meta = pd.read_csv(PREPROC_MANIFEST)\n",
        "\n",
        "# Ajusta REFNUM para minúsculas\n",
        "meta['REFNUM'] = meta['REFNUM'].astype(str).str.lower()\n",
        "\n",
        "# Seleciona apenas colunas relevantes\n",
        "cols = ['REFNUM','output_img','output_mask','SEVERITY','DENSITY','CLASS','CLASS_GROUP']\n",
        "for c in cols:\n",
        "    if c not in meta.columns:\n",
        "        meta[c] = np.nan\n",
        "meta = meta[cols]\n",
        "\n",
        "print('Linhas no manifest:', len(meta))\n",
        "meta.head(3)"
      ]
    },
    {
      "cell_type": "markdown",
      "metadata": {},
      "source": [
        "## 2) Montar lista de caminhos de imagem de **entrada do modelo**\n",
        "Se houver equalização escolhida, substituímos o caminho da imagem pelo arquivo correspondente em `outputs_eq/<modo>/` mantendo o `REFNUM` no nome."
      ]
    },
    {
      "cell_type": "code",
      "execution_count": 7,
      "metadata": {
        "trusted": true
      },
      "outputs": [
        {
          "name": "stdout",
          "output_type": "stream",
          "text": [
            "Imagens utilizáveis: 644\n"
          ]
        },
        {
          "data": {
            "text/html": [
              "<div>\n",
              "<style scoped>\n",
              "    .dataframe tbody tr th:only-of-type {\n",
              "        vertical-align: middle;\n",
              "    }\n",
              "\n",
              "    .dataframe tbody tr th {\n",
              "        vertical-align: top;\n",
              "    }\n",
              "\n",
              "    .dataframe thead th {\n",
              "        text-align: right;\n",
              "    }\n",
              "</style>\n",
              "<table border=\"1\" class=\"dataframe\">\n",
              "  <thead>\n",
              "    <tr style=\"text-align: right;\">\n",
              "      <th></th>\n",
              "      <th>REFNUM</th>\n",
              "      <th>img_path</th>\n",
              "      <th>mask_path</th>\n",
              "      <th>SEVERITY</th>\n",
              "      <th>DENSITY</th>\n",
              "      <th>CLASS</th>\n",
              "      <th>CLASS_GROUP</th>\n",
              "    </tr>\n",
              "  </thead>\n",
              "  <tbody>\n",
              "    <tr>\n",
              "      <th>0</th>\n",
              "      <td>mdb001</td>\n",
              "      <td>outputs_eq\\clahe_test6\\mdb001_clahe_test6.png</td>\n",
              "      <td>outputs_preproc\\masks\\mdb001_mask.png</td>\n",
              "      <td>Benign</td>\n",
              "      <td>B</td>\n",
              "      <td>CIRC</td>\n",
              "      <td>Masses</td>\n",
              "    </tr>\n",
              "    <tr>\n",
              "      <th>1</th>\n",
              "      <td>mdb001</td>\n",
              "      <td>outputs_eq\\clahe_test6\\mdb001_clahe_test6.png</td>\n",
              "      <td>outputs_preproc\\masks\\mdb001_mask.png</td>\n",
              "      <td>Benign</td>\n",
              "      <td>B</td>\n",
              "      <td>CIRC</td>\n",
              "      <td>Masses</td>\n",
              "    </tr>\n",
              "    <tr>\n",
              "      <th>2</th>\n",
              "      <td>mdb002</td>\n",
              "      <td>outputs_eq\\clahe_test6\\mdb002_clahe_test6.png</td>\n",
              "      <td>outputs_preproc\\masks\\mdb002_mask.png</td>\n",
              "      <td>Benign</td>\n",
              "      <td>B</td>\n",
              "      <td>CIRC</td>\n",
              "      <td>Masses</td>\n",
              "    </tr>\n",
              "  </tbody>\n",
              "</table>\n",
              "</div>"
            ],
            "text/plain": [
              "   REFNUM                                       img_path  \\\n",
              "0  mdb001  outputs_eq\\clahe_test6\\mdb001_clahe_test6.png   \n",
              "1  mdb001  outputs_eq\\clahe_test6\\mdb001_clahe_test6.png   \n",
              "2  mdb002  outputs_eq\\clahe_test6\\mdb002_clahe_test6.png   \n",
              "\n",
              "                               mask_path SEVERITY DENSITY CLASS CLASS_GROUP  \n",
              "0  outputs_preproc\\masks\\mdb001_mask.png   Benign       B  CIRC      Masses  \n",
              "1  outputs_preproc\\masks\\mdb001_mask.png   Benign       B  CIRC      Masses  \n",
              "2  outputs_preproc\\masks\\mdb002_mask.png   Benign       B  CIRC      Masses  "
            ]
          },
          "execution_count": 7,
          "metadata": {},
          "output_type": "execute_result"
        }
      ],
      "source": [
        "def eq_path_for_ref(refnum: str, mode: str):\n",
        "    if not mode:\n",
        "        return None\n",
        "    # Saída do Notebook 2 salva como: <ref>_<modo>.png (onde <ref> é stem sem _preproc)\n",
        "    # Ex.: mdb001_clahe_test6.png\n",
        "    return (EQ_DIR / f\"{refnum}_{mode}.png\")\n",
        "\n",
        "def build_records(meta_df: pd.DataFrame, mode: str):\n",
        "    recs = []\n",
        "    for _, row in meta_df.iterrows():\n",
        "        ref = row['REFNUM']\n",
        "        mask_path = Path(row['output_mask']) if isinstance(row['output_mask'], str) else None\n",
        "        if mode:\n",
        "            img_path = eq_path_for_ref(ref, mode)\n",
        "        else:\n",
        "            # usa a pré-processada\n",
        "            img_path = Path(str(row['output_img']).replace('_preproc.png', '_preproc.png'))\n",
        "        recs.append({\n",
        "            'REFNUM': ref,\n",
        "            'img_path': str(img_path) if img_path else None,\n",
        "            'mask_path': str(mask_path) if mask_path else None,\n",
        "            'SEVERITY': row['SEVERITY'],\n",
        "            'DENSITY': row['DENSITY'],\n",
        "            'CLASS': row['CLASS'],\n",
        "            'CLASS_GROUP': row['CLASS_GROUP'],\n",
        "        })\n",
        "    df = pd.DataFrame(recs)\n",
        "    # Mantém somente registros existentes em disco\n",
        "    df = df[df['img_path'].apply(lambda p: Path(p).is_file())]\n",
        "    df = df[df['mask_path'].apply(lambda p: Path(p).is_file())]\n",
        "    return df\n",
        "\n",
        "df_img = build_records(meta, EQUALIZATION_MODE)\n",
        "print('Imagens utilizáveis:', len(df_img))\n",
        "df_img.head(3)"
      ]
    },
    {
      "cell_type": "markdown",
      "metadata": {},
      "source": [
        "## 3) Extração de patches 32×32\n",
        "- Deslizamos janelas 32×32 com `stride` definido;\n",
        "- Filtramos por **máscara** (mínimo `MASK_MIN_FRACTION` de pixels da mama dentro do patch);\n",
        "- Atribuímos o rótulo de **SEVERITY** do `REFNUM`.\n",
        "\n",
        "> Dica: você pode ajustar `STRIDE` (ex.: 16) para aumentar a amostra, mantendo o split por REFNUM para não vazar entre conjuntos."
      ]
    },
    {
      "cell_type": "code",
      "execution_count": 8,
      "metadata": {
        "trusted": true
      },
      "outputs": [
        {
          "name": "stdout",
          "output_type": "stream",
          "text": [
            "Total de patches extraídos: 452326\n"
          ]
        },
        {
          "data": {
            "text/plain": [
              "SEVERITY\n",
              "Normal                                                                                         291920\n",
              "Benign                                                                                          83180\n",
              "Malignant                                                                                       67248\n",
              "REFNUM\\nmdb249    Malignant\\nmdb249    Malignant\\nName: SEVERITY, dtype: object                  1710\n",
              "REFNUM\\nmdb144       Benign\\nmdb144    Malignant\\nName: SEVERITY, dtype: object                  1630\n",
              "REFNUM\\nmdb005    Benign\\nmdb005    Benign\\nName: SEVERITY, dtype: object                        1616\n",
              "REFNUM\\nmdb239    Malignant\\nmdb239    Malignant\\nName: SEVERITY, dtype: object                  1536\n",
              "REFNUM\\nmdb226    Benign\\nmdb226    Benign\\nmdb226    Benign\\nName: SEVERITY, dtype: object      1280\n",
              "REFNUM\\nmdb223    Benign\\nmdb223    Benign\\nName: SEVERITY, dtype: object                        1190\n",
              "REFNUM\\nmdb132    Benign\\nmdb132    Benign\\nName: SEVERITY, dtype: object                        1016\n",
              "Name: count, dtype: int64"
            ]
          },
          "execution_count": 8,
          "metadata": {},
          "output_type": "execute_result"
        }
      ],
      "source": [
        "def extract_patches_from_image(img, msk, patch=32, stride=32, mask_min_fraction=0.6):\n",
        "    H, W = img.shape\n",
        "    patches = []\n",
        "    for y in range(0, H - patch + 1, stride):\n",
        "        for x in range(0, W - patch + 1, stride):\n",
        "            roi = img[y:y+patch, x:x+patch]\n",
        "            rmask = msk[y:y+patch, x:x+patch]\n",
        "            if rmask.mean() >= mask_min_fraction:\n",
        "                patches.append((roi, (y, x)))\n",
        "    return patches\n",
        "\n",
        "records = []\n",
        "for _, r in df_img.iterrows():\n",
        "    img = read_gray_float01(Path(r['img_path']))\n",
        "    msk = read_gray_float01(Path(r['mask_path']))\n",
        "    msk = (msk > 0.5).astype(np.float32)\n",
        "    pts = extract_patches_from_image(img, msk, PATCH_SIZE, STRIDE, MASK_MIN_FRACTION)\n",
        "    for roi, (yy, xx) in pts:\n",
        "        records.append({\n",
        "            'REFNUM': r['REFNUM'],\n",
        "            'SEVERITY': r['SEVERITY'],\n",
        "            'patch': roi.astype(np.float32),\n",
        "        })\n",
        "\n",
        "df_patches = pd.DataFrame(records)\n",
        "print('Total de patches extraídos:', len(df_patches))\n",
        "df_patches['SEVERITY'].value_counts(dropna=False)"
      ]
    },
    {
      "cell_type": "markdown",
      "metadata": {},
      "source": [
        "## 4) Split por REFNUM e balanceamento por classe\n",
        "- Split estratificado **por imagem** (REFNUM) em 70/15/15;\n",
        "- Em seguida, **undersampling** no nível de **patches** para igualar as classes ao **mínimo** disponível."
      ]
    },
    {
      "cell_type": "code",
      "execution_count": 9,
      "metadata": {
        "trusted": true
      },
      "outputs": [
        {
          "name": "stdout",
          "output_type": "stream",
          "text": [
            "Patches por split (antes do balanceamento):\n",
            "train: {'Normal': 203358, 'Benign': 57138, 'Malignant': 47842}\n",
            "val  : {'Normal': 43672, 'Benign': 12132, 'Malignant': 9170}\n",
            "test : {'Normal': 44890, 'Benign': 13910, 'Malignant': 10236, 'REFNUM\\nmdb249    Malignant\\nmdb249    Malignant\\nName: SEVERITY, dtype: object': 1710, 'REFNUM\\nmdb144       Benign\\nmdb144    Malignant\\nName: SEVERITY, dtype: object': 1630, 'REFNUM\\nmdb005    Benign\\nmdb005    Benign\\nName: SEVERITY, dtype: object': 1616, 'REFNUM\\nmdb239    Malignant\\nmdb239    Malignant\\nName: SEVERITY, dtype: object': 1536, 'REFNUM\\nmdb226    Benign\\nmdb226    Benign\\nmdb226    Benign\\nName: SEVERITY, dtype: object': 1280, 'REFNUM\\nmdb223    Benign\\nmdb223    Benign\\nName: SEVERITY, dtype: object': 1190, 'REFNUM\\nmdb132    Benign\\nmdb132    Benign\\nName: SEVERITY, dtype: object': 1016}\n",
            "\n",
            "Patches por split (após balanceamento):\n",
            "train: {'Malignant': 47842, 'Benign': 47842, 'Normal': 47842}\n",
            "val  : {'Benign': 9170, 'Malignant': 9170, 'Normal': 9170}\n",
            "test : {'REFNUM\\nmdb249    Malignant\\nmdb249    Malignant\\nName: SEVERITY, dtype: object': 1016, 'REFNUM\\nmdb005    Benign\\nmdb005    Benign\\nName: SEVERITY, dtype: object': 1016, 'Malignant': 1016, 'Normal': 1016, 'REFNUM\\nmdb239    Malignant\\nmdb239    Malignant\\nName: SEVERITY, dtype: object': 1016, 'REFNUM\\nmdb226    Benign\\nmdb226    Benign\\nmdb226    Benign\\nName: SEVERITY, dtype: object': 1016, 'Benign': 1016, 'REFNUM\\nmdb144       Benign\\nmdb144    Malignant\\nName: SEVERITY, dtype: object': 1016, 'REFNUM\\nmdb223    Benign\\nmdb223    Benign\\nName: SEVERITY, dtype: object': 1016, 'REFNUM\\nmdb132    Benign\\nmdb132    Benign\\nName: SEVERITY, dtype: object': 1016}\n"
          ]
        }
      ],
      "source": [
        "from collections import defaultdict\n",
        "\n",
        "# Mapeia cada REFNUM para sua classe (SEVERITY)\n",
        "ref2label = df_patches.groupby('REFNUM')['SEVERITY'].agg(lambda s: s.iloc[0]).to_dict()\n",
        "\n",
        "# Lista de REFNUM por classe\n",
        "by_class_refs = defaultdict(list)\n",
        "for ref, lab in ref2label.items():\n",
        "    by_class_refs[str(lab)].append(ref)\n",
        "\n",
        "train_refs, val_refs, test_refs = set(), set(), set()\n",
        "rng = np.random.RandomState(RANDOM_SEED)\n",
        "for lab, refs in by_class_refs.items():\n",
        "    refs = sorted(refs)\n",
        "    rng.shuffle(refs)\n",
        "    n = len(refs)\n",
        "    n_train = int(SPLIT['train'] * n)\n",
        "    n_val = int(SPLIT['val'] * n)\n",
        "    train_refs.update(refs[:n_train])\n",
        "    val_refs.update(refs[n_train:n_train+n_val])\n",
        "    test_refs.update(refs[n_train+n_val:])\n",
        "\n",
        "def subset_by_refs(df, refs):\n",
        "    return df[df['REFNUM'].isin(refs)].copy()\n",
        "\n",
        "train_df = subset_by_refs(df_patches, train_refs)\n",
        "val_df   = subset_by_refs(df_patches, val_refs)\n",
        "test_df  = subset_by_refs(df_patches, test_refs)\n",
        "\n",
        "print('Patches por split (antes do balanceamento):')\n",
        "print('train:', train_df['SEVERITY'].value_counts(dropna=False).to_dict())\n",
        "print('val  :', val_df['SEVERITY'].value_counts(dropna=False).to_dict())\n",
        "print('test :', test_df['SEVERITY'].value_counts(dropna=False).to_dict())\n",
        "\n",
        "def undersample_to_min(df, label_col='SEVERITY'):\n",
        "    counts = df[label_col].value_counts()\n",
        "    if len(counts) == 0:\n",
        "        return df\n",
        "    min_count = counts.min()\n",
        "    parts = []\n",
        "    for lab, c in counts.items():\n",
        "        part = df[df[label_col] == lab].sample(min_count, random_state=RANDOM_SEED)\n",
        "        parts.append(part)\n",
        "    out = pd.concat(parts, axis=0).sample(frac=1.0, random_state=RANDOM_SEED).reset_index(drop=True)\n",
        "    return out\n",
        "\n",
        "train_df_bal = undersample_to_min(train_df)\n",
        "val_df_bal   = undersample_to_min(val_df)\n",
        "test_df_bal  = undersample_to_min(test_df)\n",
        "\n",
        "print('\\nPatches por split (após balanceamento):')\n",
        "print('train:', train_df_bal['SEVERITY'].value_counts(dropna=False).to_dict())\n",
        "print('val  :', val_df_bal['SEVERITY'].value_counts(dropna=False).to_dict())\n",
        "print('test :', test_df_bal['SEVERITY'].value_counts(dropna=False).to_dict())"
      ]
    },
    {
      "cell_type": "markdown",
      "metadata": {},
      "source": [
        "## 5) Preparar tensores e rótulos (LabelEncoder)"
      ]
    },
    {
      "cell_type": "code",
      "execution_count": null,
      "metadata": {
        "trusted": true
      },
      "outputs": [
        {
          "name": "stdout",
          "output_type": "stream",
          "text": [
            "Classes (ordem do encoder): ['Benign', 'Malignant', 'Normal']\n",
            "Classes (ordem do encoder): ['Benign', 'Malignant', 'Normal']\n",
            "Shapes: (143526, 32, 32, 1) (27510, 32, 32, 1) (10160, 32, 32, 1)\n"
          ]
        }
      ],
      "source": [
        "import re\n",
        "import numpy as np\n",
        "import pandas as pd\n",
        "from sklearn.preprocessing import LabelEncoder\n",
        "from sklearn.metrics import classification_report, confusion_matrix\n",
        "\n",
        "def clean_severity(v):\n",
        "    # Caso seja uma Series/array/objeto com iloc, pega o primeiro elemento\n",
        "    if hasattr(v, \"iloc\"):\n",
        "        try:\n",
        "            v = v.iloc[0]\n",
        "        except Exception:\n",
        "            v = str(v)\n",
        "    if isinstance(v, (list, tuple, np.ndarray)):\n",
        "        v = v[0] if len(v) else \"\"\n",
        "    # string pura, sem quebras de linha / rótulos anexos\n",
        "    v = str(v)\n",
        "    v = v.replace(\"\\n\", \" \").strip()\n",
        "    # normaliza capitalização e mapeia variações\n",
        "    vl = v.lower()\n",
        "    if \"normal\" in vl:\n",
        "        return \"Normal\"\n",
        "    if \"benign\" in vl:   # pega 'benign'/'benigno'\n",
        "        return \"Benign\"\n",
        "    if \"malig\" in vl:    # pega 'malig'/'malignant'/'maligno'\n",
        "        return \"Malignant\"\n",
        "    # fallback\n",
        "    return v or \"Unknown\"\n",
        "\n",
        "# 2) Aplica limpeza nos três splits ANTES de treinar o encoder\n",
        "for _df in [train_df_bal, val_df_bal, test_df_bal]:\n",
        "    _df[\"SEVERITY\"] = _df[\"SEVERITY\"].apply(clean_severity).astype(str)\n",
        "\n",
        "# 3) Treina o encoder só com as classes presentes no TREINO\n",
        "le = LabelEncoder()\n",
        "le.fit(train_df_bal[\"SEVERITY\"].values)\n",
        "n_classes = len(le.classes_)\n",
        "print(\"Classes (ordem do encoder):\", list(le.classes_))\n",
        "\n",
        "le = LabelEncoder()\n",
        "le.fit(train_df_bal['SEVERITY'].astype(str).values)\n",
        "n_classes = len(le.classes_)\n",
        "print('Classes (ordem do encoder):', list(le.classes_))\n",
        "\n",
        "def df_to_xy(df):\n",
        "    # Garante que haverá ao menos 1 amostra antes de empilhar\n",
        "    if len(df) == 0:\n",
        "        return np.empty((0, PATCH_SIZE, PATCH_SIZE, 1), dtype=np.float32), np.empty((0,), dtype=np.int64)\n",
        "    X = np.stack(df['patch'].values).astype(np.float32)\n",
        "    X = X[..., np.newaxis]  # (N, 32, 32, 1)\n",
        "    y = le.transform(df['SEVERITY'].astype(str).values)\n",
        "    return X, y\n",
        "\n",
        "X_train, y_train = df_to_xy(train_df_bal)\n",
        "X_val,   y_val   = df_to_xy(val_df_bal)\n",
        "X_test,  y_test  = df_to_xy(test_df_bal)\n",
        "\n",
        "print('Shapes:', X_train.shape, X_val.shape, X_test.shape)"
      ]
    },
    {
      "cell_type": "markdown",
      "metadata": {},
      "source": [
        "## 6) CNN simples (Keras)"
      ]
    },
    {
      "cell_type": "code",
      "execution_count": 17,
      "metadata": {
        "trusted": true
      },
      "outputs": [
        {
          "name": "stderr",
          "output_type": "stream",
          "text": [
            "c:\\Users\\jhter\\OneDrive - cefet-rj.br\\Processamento-Imagem\\venv\\Lib\\site-packages\\keras\\src\\layers\\convolutional\\base_conv.py:113: UserWarning: Do not pass an `input_shape`/`input_dim` argument to a layer. When using Sequential models, prefer using an `Input(shape)` object as the first layer in the model instead.\n",
            "  super().__init__(activity_regularizer=activity_regularizer, **kwargs)\n"
          ]
        },
        {
          "data": {
            "text/html": [
              "<pre style=\"white-space:pre;overflow-x:auto;line-height:normal;font-family:Menlo,'DejaVu Sans Mono',consolas,'Courier New',monospace\"><span style=\"font-weight: bold\">Model: \"sequential_1\"</span>\n",
              "</pre>\n"
            ],
            "text/plain": [
              "\u001b[1mModel: \"sequential_1\"\u001b[0m\n"
            ]
          },
          "metadata": {},
          "output_type": "display_data"
        },
        {
          "data": {
            "text/html": [
              "<pre style=\"white-space:pre;overflow-x:auto;line-height:normal;font-family:Menlo,'DejaVu Sans Mono',consolas,'Courier New',monospace\">┏━━━━━━━━━━━━━━━━━━━━━━━━━━━━━━━━━┳━━━━━━━━━━━━━━━━━━━━━━━━┳━━━━━━━━━━━━━━━┓\n",
              "┃<span style=\"font-weight: bold\"> Layer (type)                    </span>┃<span style=\"font-weight: bold\"> Output Shape           </span>┃<span style=\"font-weight: bold\">       Param # </span>┃\n",
              "┡━━━━━━━━━━━━━━━━━━━━━━━━━━━━━━━━━╇━━━━━━━━━━━━━━━━━━━━━━━━╇━━━━━━━━━━━━━━━┩\n",
              "│ conv2d_3 (<span style=\"color: #0087ff; text-decoration-color: #0087ff\">Conv2D</span>)               │ (<span style=\"color: #00d7ff; text-decoration-color: #00d7ff\">None</span>, <span style=\"color: #00af00; text-decoration-color: #00af00\">30</span>, <span style=\"color: #00af00; text-decoration-color: #00af00\">30</span>, <span style=\"color: #00af00; text-decoration-color: #00af00\">32</span>)     │           <span style=\"color: #00af00; text-decoration-color: #00af00\">320</span> │\n",
              "├─────────────────────────────────┼────────────────────────┼───────────────┤\n",
              "│ max_pooling2d_2 (<span style=\"color: #0087ff; text-decoration-color: #0087ff\">MaxPooling2D</span>)  │ (<span style=\"color: #00d7ff; text-decoration-color: #00d7ff\">None</span>, <span style=\"color: #00af00; text-decoration-color: #00af00\">15</span>, <span style=\"color: #00af00; text-decoration-color: #00af00\">15</span>, <span style=\"color: #00af00; text-decoration-color: #00af00\">32</span>)     │             <span style=\"color: #00af00; text-decoration-color: #00af00\">0</span> │\n",
              "├─────────────────────────────────┼────────────────────────┼───────────────┤\n",
              "│ conv2d_4 (<span style=\"color: #0087ff; text-decoration-color: #0087ff\">Conv2D</span>)               │ (<span style=\"color: #00d7ff; text-decoration-color: #00d7ff\">None</span>, <span style=\"color: #00af00; text-decoration-color: #00af00\">13</span>, <span style=\"color: #00af00; text-decoration-color: #00af00\">13</span>, <span style=\"color: #00af00; text-decoration-color: #00af00\">64</span>)     │        <span style=\"color: #00af00; text-decoration-color: #00af00\">18,496</span> │\n",
              "├─────────────────────────────────┼────────────────────────┼───────────────┤\n",
              "│ max_pooling2d_3 (<span style=\"color: #0087ff; text-decoration-color: #0087ff\">MaxPooling2D</span>)  │ (<span style=\"color: #00d7ff; text-decoration-color: #00d7ff\">None</span>, <span style=\"color: #00af00; text-decoration-color: #00af00\">6</span>, <span style=\"color: #00af00; text-decoration-color: #00af00\">6</span>, <span style=\"color: #00af00; text-decoration-color: #00af00\">64</span>)       │             <span style=\"color: #00af00; text-decoration-color: #00af00\">0</span> │\n",
              "├─────────────────────────────────┼────────────────────────┼───────────────┤\n",
              "│ conv2d_5 (<span style=\"color: #0087ff; text-decoration-color: #0087ff\">Conv2D</span>)               │ (<span style=\"color: #00d7ff; text-decoration-color: #00d7ff\">None</span>, <span style=\"color: #00af00; text-decoration-color: #00af00\">4</span>, <span style=\"color: #00af00; text-decoration-color: #00af00\">4</span>, <span style=\"color: #00af00; text-decoration-color: #00af00\">128</span>)      │        <span style=\"color: #00af00; text-decoration-color: #00af00\">73,856</span> │\n",
              "├─────────────────────────────────┼────────────────────────┼───────────────┤\n",
              "│ flatten_1 (<span style=\"color: #0087ff; text-decoration-color: #0087ff\">Flatten</span>)             │ (<span style=\"color: #00d7ff; text-decoration-color: #00d7ff\">None</span>, <span style=\"color: #00af00; text-decoration-color: #00af00\">2048</span>)           │             <span style=\"color: #00af00; text-decoration-color: #00af00\">0</span> │\n",
              "├─────────────────────────────────┼────────────────────────┼───────────────┤\n",
              "│ dense_2 (<span style=\"color: #0087ff; text-decoration-color: #0087ff\">Dense</span>)                 │ (<span style=\"color: #00d7ff; text-decoration-color: #00d7ff\">None</span>, <span style=\"color: #00af00; text-decoration-color: #00af00\">128</span>)            │       <span style=\"color: #00af00; text-decoration-color: #00af00\">262,272</span> │\n",
              "├─────────────────────────────────┼────────────────────────┼───────────────┤\n",
              "│ dropout_1 (<span style=\"color: #0087ff; text-decoration-color: #0087ff\">Dropout</span>)             │ (<span style=\"color: #00d7ff; text-decoration-color: #00d7ff\">None</span>, <span style=\"color: #00af00; text-decoration-color: #00af00\">128</span>)            │             <span style=\"color: #00af00; text-decoration-color: #00af00\">0</span> │\n",
              "├─────────────────────────────────┼────────────────────────┼───────────────┤\n",
              "│ dense_3 (<span style=\"color: #0087ff; text-decoration-color: #0087ff\">Dense</span>)                 │ (<span style=\"color: #00d7ff; text-decoration-color: #00d7ff\">None</span>, <span style=\"color: #00af00; text-decoration-color: #00af00\">3</span>)              │           <span style=\"color: #00af00; text-decoration-color: #00af00\">387</span> │\n",
              "└─────────────────────────────────┴────────────────────────┴───────────────┘\n",
              "</pre>\n"
            ],
            "text/plain": [
              "┏━━━━━━━━━━━━━━━━━━━━━━━━━━━━━━━━━┳━━━━━━━━━━━━━━━━━━━━━━━━┳━━━━━━━━━━━━━━━┓\n",
              "┃\u001b[1m \u001b[0m\u001b[1mLayer (type)                   \u001b[0m\u001b[1m \u001b[0m┃\u001b[1m \u001b[0m\u001b[1mOutput Shape          \u001b[0m\u001b[1m \u001b[0m┃\u001b[1m \u001b[0m\u001b[1m      Param #\u001b[0m\u001b[1m \u001b[0m┃\n",
              "┡━━━━━━━━━━━━━━━━━━━━━━━━━━━━━━━━━╇━━━━━━━━━━━━━━━━━━━━━━━━╇━━━━━━━━━━━━━━━┩\n",
              "│ conv2d_3 (\u001b[38;5;33mConv2D\u001b[0m)               │ (\u001b[38;5;45mNone\u001b[0m, \u001b[38;5;34m30\u001b[0m, \u001b[38;5;34m30\u001b[0m, \u001b[38;5;34m32\u001b[0m)     │           \u001b[38;5;34m320\u001b[0m │\n",
              "├─────────────────────────────────┼────────────────────────┼───────────────┤\n",
              "│ max_pooling2d_2 (\u001b[38;5;33mMaxPooling2D\u001b[0m)  │ (\u001b[38;5;45mNone\u001b[0m, \u001b[38;5;34m15\u001b[0m, \u001b[38;5;34m15\u001b[0m, \u001b[38;5;34m32\u001b[0m)     │             \u001b[38;5;34m0\u001b[0m │\n",
              "├─────────────────────────────────┼────────────────────────┼───────────────┤\n",
              "│ conv2d_4 (\u001b[38;5;33mConv2D\u001b[0m)               │ (\u001b[38;5;45mNone\u001b[0m, \u001b[38;5;34m13\u001b[0m, \u001b[38;5;34m13\u001b[0m, \u001b[38;5;34m64\u001b[0m)     │        \u001b[38;5;34m18,496\u001b[0m │\n",
              "├─────────────────────────────────┼────────────────────────┼───────────────┤\n",
              "│ max_pooling2d_3 (\u001b[38;5;33mMaxPooling2D\u001b[0m)  │ (\u001b[38;5;45mNone\u001b[0m, \u001b[38;5;34m6\u001b[0m, \u001b[38;5;34m6\u001b[0m, \u001b[38;5;34m64\u001b[0m)       │             \u001b[38;5;34m0\u001b[0m │\n",
              "├─────────────────────────────────┼────────────────────────┼───────────────┤\n",
              "│ conv2d_5 (\u001b[38;5;33mConv2D\u001b[0m)               │ (\u001b[38;5;45mNone\u001b[0m, \u001b[38;5;34m4\u001b[0m, \u001b[38;5;34m4\u001b[0m, \u001b[38;5;34m128\u001b[0m)      │        \u001b[38;5;34m73,856\u001b[0m │\n",
              "├─────────────────────────────────┼────────────────────────┼───────────────┤\n",
              "│ flatten_1 (\u001b[38;5;33mFlatten\u001b[0m)             │ (\u001b[38;5;45mNone\u001b[0m, \u001b[38;5;34m2048\u001b[0m)           │             \u001b[38;5;34m0\u001b[0m │\n",
              "├─────────────────────────────────┼────────────────────────┼───────────────┤\n",
              "│ dense_2 (\u001b[38;5;33mDense\u001b[0m)                 │ (\u001b[38;5;45mNone\u001b[0m, \u001b[38;5;34m128\u001b[0m)            │       \u001b[38;5;34m262,272\u001b[0m │\n",
              "├─────────────────────────────────┼────────────────────────┼───────────────┤\n",
              "│ dropout_1 (\u001b[38;5;33mDropout\u001b[0m)             │ (\u001b[38;5;45mNone\u001b[0m, \u001b[38;5;34m128\u001b[0m)            │             \u001b[38;5;34m0\u001b[0m │\n",
              "├─────────────────────────────────┼────────────────────────┼───────────────┤\n",
              "│ dense_3 (\u001b[38;5;33mDense\u001b[0m)                 │ (\u001b[38;5;45mNone\u001b[0m, \u001b[38;5;34m3\u001b[0m)              │           \u001b[38;5;34m387\u001b[0m │\n",
              "└─────────────────────────────────┴────────────────────────┴───────────────┘\n"
            ]
          },
          "metadata": {},
          "output_type": "display_data"
        },
        {
          "data": {
            "text/html": [
              "<pre style=\"white-space:pre;overflow-x:auto;line-height:normal;font-family:Menlo,'DejaVu Sans Mono',consolas,'Courier New',monospace\"><span style=\"font-weight: bold\"> Total params: </span><span style=\"color: #00af00; text-decoration-color: #00af00\">355,331</span> (1.36 MB)\n",
              "</pre>\n"
            ],
            "text/plain": [
              "\u001b[1m Total params: \u001b[0m\u001b[38;5;34m355,331\u001b[0m (1.36 MB)\n"
            ]
          },
          "metadata": {},
          "output_type": "display_data"
        },
        {
          "data": {
            "text/html": [
              "<pre style=\"white-space:pre;overflow-x:auto;line-height:normal;font-family:Menlo,'DejaVu Sans Mono',consolas,'Courier New',monospace\"><span style=\"font-weight: bold\"> Trainable params: </span><span style=\"color: #00af00; text-decoration-color: #00af00\">355,331</span> (1.36 MB)\n",
              "</pre>\n"
            ],
            "text/plain": [
              "\u001b[1m Trainable params: \u001b[0m\u001b[38;5;34m355,331\u001b[0m (1.36 MB)\n"
            ]
          },
          "metadata": {},
          "output_type": "display_data"
        },
        {
          "data": {
            "text/html": [
              "<pre style=\"white-space:pre;overflow-x:auto;line-height:normal;font-family:Menlo,'DejaVu Sans Mono',consolas,'Courier New',monospace\"><span style=\"font-weight: bold\"> Non-trainable params: </span><span style=\"color: #00af00; text-decoration-color: #00af00\">0</span> (0.00 B)\n",
              "</pre>\n"
            ],
            "text/plain": [
              "\u001b[1m Non-trainable params: \u001b[0m\u001b[38;5;34m0\u001b[0m (0.00 B)\n"
            ]
          },
          "metadata": {},
          "output_type": "display_data"
        }
      ],
      "source": [
        "def build_cnn(input_shape=(32,32,1), n_classes=3):\n",
        "    m = models.Sequential([\n",
        "        layers.Conv2D(32, (3,3), activation='relu', input_shape=input_shape),\n",
        "        layers.MaxPooling2D((2,2)),\n",
        "        layers.Conv2D(64, (3,3), activation='relu'),\n",
        "        layers.MaxPooling2D((2,2)),\n",
        "        layers.Conv2D(128, (3,3), activation='relu'),\n",
        "        layers.Flatten(),\n",
        "        layers.Dense(128, activation='relu'),\n",
        "        layers.Dropout(0.3),\n",
        "        layers.Dense(n_classes, activation='softmax')\n",
        "    ])\n",
        "    m.compile(optimizer=tf.keras.optimizers.Adam(learning_rate=LR),\n",
        "              loss='sparse_categorical_crossentropy',\n",
        "              metrics=['accuracy'])\n",
        "    return m\n",
        "\n",
        "model = build_cnn(input_shape=(PATCH_SIZE,PATCH_SIZE,1), n_classes=n_classes)\n",
        "model.summary()"
      ]
    },
    {
      "cell_type": "markdown",
      "metadata": {},
      "source": [
        "### Treino"
      ]
    },
    {
      "cell_type": "code",
      "execution_count": 18,
      "metadata": {
        "trusted": true
      },
      "outputs": [
        {
          "name": "stdout",
          "output_type": "stream",
          "text": [
            "Epoch 1/20\n",
            "\u001b[1m2243/2243\u001b[0m \u001b[32m━━━━━━━━━━━━━━━━━━━━\u001b[0m\u001b[37m\u001b[0m \u001b[1m27s\u001b[0m 11ms/step - accuracy: 0.3342 - loss: 1.0988 - val_accuracy: 0.3333 - val_loss: 1.0987 - learning_rate: 0.0010\n",
            "Epoch 2/20\n",
            "\u001b[1m2243/2243\u001b[0m \u001b[32m━━━━━━━━━━━━━━━━━━━━\u001b[0m\u001b[37m\u001b[0m \u001b[1m38s\u001b[0m 17ms/step - accuracy: 0.3308 - loss: 1.0987 - val_accuracy: 0.3333 - val_loss: 1.0987 - learning_rate: 0.0010\n",
            "Epoch 3/20\n",
            "\u001b[1m2243/2243\u001b[0m \u001b[32m━━━━━━━━━━━━━━━━━━━━\u001b[0m\u001b[37m\u001b[0m \u001b[1m33s\u001b[0m 15ms/step - accuracy: 0.3322 - loss: 1.0987 - val_accuracy: 0.3333 - val_loss: 1.0987 - learning_rate: 0.0010\n",
            "Epoch 4/20\n",
            "\u001b[1m2242/2243\u001b[0m \u001b[32m━━━━━━━━━━━━━━━━━━━\u001b[0m\u001b[37m━\u001b[0m \u001b[1m0s\u001b[0m 13ms/step - accuracy: 0.3340 - loss: 1.0986\n",
            "Epoch 4: ReduceLROnPlateau reducing learning rate to 0.0005000000237487257.\n",
            "\u001b[1m2243/2243\u001b[0m \u001b[32m━━━━━━━━━━━━━━━━━━━━\u001b[0m\u001b[37m\u001b[0m \u001b[1m31s\u001b[0m 14ms/step - accuracy: 0.3320 - loss: 1.0987 - val_accuracy: 0.3333 - val_loss: 1.0987 - learning_rate: 0.0010\n",
            "Epoch 5/20\n",
            "\u001b[1m2243/2243\u001b[0m \u001b[32m━━━━━━━━━━━━━━━━━━━━\u001b[0m\u001b[37m\u001b[0m \u001b[1m32s\u001b[0m 14ms/step - accuracy: 0.3325 - loss: 1.0986 - val_accuracy: 0.3333 - val_loss: 1.0986 - learning_rate: 5.0000e-04\n",
            "Epoch 6/20\n",
            "\u001b[1m2243/2243\u001b[0m \u001b[32m━━━━━━━━━━━━━━━━━━━━\u001b[0m\u001b[37m\u001b[0m \u001b[1m33s\u001b[0m 15ms/step - accuracy: 0.3319 - loss: 1.0986 - val_accuracy: 0.3333 - val_loss: 1.0986 - learning_rate: 5.0000e-04\n",
            "Epoch 7/20\n",
            "\u001b[1m2242/2243\u001b[0m \u001b[32m━━━━━━━━━━━━━━━━━━━\u001b[0m\u001b[37m━\u001b[0m \u001b[1m0s\u001b[0m 13ms/step - accuracy: 0.3328 - loss: 1.0986\n",
            "Epoch 7: ReduceLROnPlateau reducing learning rate to 0.0002500000118743628.\n",
            "\u001b[1m2243/2243\u001b[0m \u001b[32m━━━━━━━━━━━━━━━━━━━━\u001b[0m\u001b[37m\u001b[0m \u001b[1m32s\u001b[0m 14ms/step - accuracy: 0.3320 - loss: 1.0986 - val_accuracy: 0.3333 - val_loss: 1.0986 - learning_rate: 5.0000e-04\n",
            "Epoch 8/20\n",
            "\u001b[1m2243/2243\u001b[0m \u001b[32m━━━━━━━━━━━━━━━━━━━━\u001b[0m\u001b[37m\u001b[0m \u001b[1m32s\u001b[0m 14ms/step - accuracy: 0.3334 - loss: 1.0986 - val_accuracy: 0.3333 - val_loss: 1.0986 - learning_rate: 2.5000e-04\n",
            "Epoch 9/20\n",
            "\u001b[1m2243/2243\u001b[0m \u001b[32m━━━━━━━━━━━━━━━━━━━━\u001b[0m\u001b[37m\u001b[0m \u001b[1m32s\u001b[0m 14ms/step - accuracy: 0.3329 - loss: 1.0986 - val_accuracy: 0.3333 - val_loss: 1.0986 - learning_rate: 2.5000e-04\n",
            "Epoch 10/20\n",
            "\u001b[1m2241/2243\u001b[0m \u001b[32m━━━━━━━━━━━━━━━━━━━\u001b[0m\u001b[37m━\u001b[0m \u001b[1m0s\u001b[0m 14ms/step - accuracy: 0.3334 - loss: 1.0986\n",
            "Epoch 10: ReduceLROnPlateau reducing learning rate to 0.0001250000059371814.\n",
            "\u001b[1m2243/2243\u001b[0m \u001b[32m━━━━━━━━━━━━━━━━━━━━\u001b[0m\u001b[37m\u001b[0m \u001b[1m34s\u001b[0m 15ms/step - accuracy: 0.3329 - loss: 1.0986 - val_accuracy: 0.3333 - val_loss: 1.0986 - learning_rate: 2.5000e-04\n",
            "Epoch 11/20\n",
            "\u001b[1m2243/2243\u001b[0m \u001b[32m━━━━━━━━━━━━━━━━━━━━\u001b[0m\u001b[37m\u001b[0m \u001b[1m35s\u001b[0m 15ms/step - accuracy: 0.3317 - loss: 1.0986 - val_accuracy: 0.3333 - val_loss: 1.0986 - learning_rate: 1.2500e-04\n",
            "Epoch 12/20\n",
            "\u001b[1m2243/2243\u001b[0m \u001b[32m━━━━━━━━━━━━━━━━━━━━\u001b[0m\u001b[37m\u001b[0m \u001b[1m35s\u001b[0m 16ms/step - accuracy: 0.3324 - loss: 1.0986 - val_accuracy: 0.3333 - val_loss: 1.0986 - learning_rate: 1.2500e-04\n",
            "Epoch 13/20\n",
            "\u001b[1m2242/2243\u001b[0m \u001b[32m━━━━━━━━━━━━━━━━━━━\u001b[0m\u001b[37m━\u001b[0m \u001b[1m0s\u001b[0m 15ms/step - accuracy: 0.3313 - loss: 1.0986\n",
            "Epoch 13: ReduceLROnPlateau reducing learning rate to 6.25000029685907e-05.\n",
            "\u001b[1m2243/2243\u001b[0m \u001b[32m━━━━━━━━━━━━━━━━━━━━\u001b[0m\u001b[37m\u001b[0m \u001b[1m36s\u001b[0m 16ms/step - accuracy: 0.3321 - loss: 1.0986 - val_accuracy: 0.3333 - val_loss: 1.0986 - learning_rate: 1.2500e-04\n",
            "Epoch 14/20\n",
            "\u001b[1m2243/2243\u001b[0m \u001b[32m━━━━━━━━━━━━━━━━━━━━\u001b[0m\u001b[37m\u001b[0m \u001b[1m35s\u001b[0m 16ms/step - accuracy: 0.3325 - loss: 1.0986 - val_accuracy: 0.3333 - val_loss: 1.0986 - learning_rate: 6.2500e-05\n",
            "Epoch 15/20\n",
            "\u001b[1m2243/2243\u001b[0m \u001b[32m━━━━━━━━━━━━━━━━━━━━\u001b[0m\u001b[37m\u001b[0m \u001b[1m32s\u001b[0m 14ms/step - accuracy: 0.3326 - loss: 1.0986 - val_accuracy: 0.3333 - val_loss: 1.0986 - learning_rate: 6.2500e-05\n",
            "Epoch 16/20\n",
            "\u001b[1m2241/2243\u001b[0m \u001b[32m━━━━━━━━━━━━━━━━━━━\u001b[0m\u001b[37m━\u001b[0m \u001b[1m0s\u001b[0m 13ms/step - accuracy: 0.3323 - loss: 1.0986\n",
            "Epoch 16: ReduceLROnPlateau reducing learning rate to 3.125000148429535e-05.\n",
            "\u001b[1m2243/2243\u001b[0m \u001b[32m━━━━━━━━━━━━━━━━━━━━\u001b[0m\u001b[37m\u001b[0m \u001b[1m32s\u001b[0m 14ms/step - accuracy: 0.3325 - loss: 1.0986 - val_accuracy: 0.3333 - val_loss: 1.0986 - learning_rate: 6.2500e-05\n",
            "Epoch 16: early stopping\n",
            "Restoring model weights from the end of the best epoch: 11.\n"
          ]
        }
      ],
      "source": [
        "callbacks = [\n",
        "    tf.keras.callbacks.ReduceLROnPlateau(monitor='val_loss', factor=0.5, patience=3, verbose=1),\n",
        "    tf.keras.callbacks.EarlyStopping(monitor='val_loss', patience=5, restore_best_weights=True, verbose=1)\n",
        "]\n",
        "\n",
        "hist = model.fit(\n",
        "    X_train, y_train,\n",
        "    validation_data=(X_val, y_val),\n",
        "    epochs=EPOCHS,\n",
        "    batch_size=BATCH_SIZE,\n",
        "    verbose=1,\n",
        "    callbacks=callbacks\n",
        ")\n"
      ]
    },
    {
      "cell_type": "markdown",
      "metadata": {},
      "source": [
        "## 7) Avaliação — métricas e matriz de confusão"
      ]
    },
    {
      "cell_type": "code",
      "execution_count": 19,
      "metadata": {
        "trusted": true
      },
      "outputs": [
        {
          "name": "stdout",
          "output_type": "stream",
          "text": [
            "\u001b[1m159/159\u001b[0m \u001b[32m━━━━━━━━━━━━━━━━━━━━\u001b[0m\u001b[37m\u001b[0m \u001b[1m1s\u001b[0m 5ms/step\n",
            "Relatório de classificação (por patches):\n",
            "              precision    recall  f1-score   support\n",
            "\n",
            "      Benign       0.00      0.00      0.00      6096\n",
            "   Malignant       0.30      1.00      0.46      3048\n",
            "      Normal       0.00      0.00      0.00      1016\n",
            "\n",
            "    accuracy                           0.30     10160\n",
            "   macro avg       0.10      0.33      0.15     10160\n",
            "weighted avg       0.09      0.30      0.14     10160\n",
            "\n",
            "Matriz de confusão (ordem dos rótulos = encoder):\n",
            "[[   0 6096    0]\n",
            " [   0 3048    0]\n",
            " [   0 1016    0]]\n"
          ]
        },
        {
          "data": {
            "image/png": "[encoded data removed]",
            "text/plain": [
              "<Figure size 500x400 with 1 Axes>"
            ]
          },
          "metadata": {},
          "output_type": "display_data"
        }
      ],
      "source": [
        "y_pred = model.predict(X_test, batch_size=BATCH_SIZE)\n",
        "y_hat = np.argmax(y_pred, axis=1)\n",
        "\n",
        "# Para evitar erro quando alguma classe não aparece no y_test,\n",
        "# fixamos o conjunto de labels e target_names de acordo com o encoder\n",
        "all_labels = np.arange(n_classes)\n",
        "all_names  = list(le.classes_)\n",
        "\n",
        "print('Relatório de classificação (por patches):')\n",
        "print(classification_report(\n",
        "    y_test, y_hat,\n",
        "    labels=all_labels,\n",
        "    target_names=all_names,\n",
        "    zero_division=0  # evita warnings/erros de divisão por zero\n",
        "))\n",
        "\n",
        "# Matriz de confusão com eixo fixo (inclui classes ausentes no teste)\n",
        "cm = confusion_matrix(y_test, y_hat, labels=all_labels)\n",
        "print('Matriz de confusão (ordem dos rótulos = encoder):')\n",
        "print(cm)\n",
        "\n",
        "# Plot da matriz (sem especificar cores)\n",
        "plt.figure(figsize=(5,4))\n",
        "plt.imshow(cm, aspect='auto')\n",
        "plt.title('Matriz de Confusão (patches)')\n",
        "plt.xlabel('Predito')\n",
        "plt.ylabel('Verdadeiro')\n",
        "plt.xticks(ticks=all_labels, labels=all_names, rotation=45)\n",
        "plt.yticks(ticks=all_labels, labels=all_names)\n",
        "for i in range(cm.shape[0]):\n",
        "    for j in range(cm.shape[1]):\n",
        "        plt.text(j, i, str(cm[i, j]), ha='center', va='center')\n",
        "plt.tight_layout()\n",
        "plt.show()"
      ]
    },
    {
      "cell_type": "markdown",
      "metadata": {},
      "source": [
        "## 8) Observações\n",
        "- O artigo reporta métricas por **conjuntos de imagens** e também efeitos por **grupos de lesões**; aqui avaliamos por **patches**. Se quiser, agregue por **imagem** (voto da maioria dos patches) para aproximar do nível de imagem;\n",
        "- Ajuste `STRIDE` para controlar o nº de patches. `16` tende a aumentar o dataset, mas mantenha o split por **REFNUM**;\n",
        "- Para usar **outra equalização**, altere `EQUALIZATION_MODE` (conforme Notebook 2);\n",
        "- Você pode trocar a CNN por uma arquitetura um pouco maior (BatchNorm, mais camadas) para tentar reproduzir os números do paper;\n",
        "- Caso queira estratificar por **DENSITY**/`BI-RADS`, basta filtrar `df_img`/`df_patches` antes de extrair os conjuntos."
      ]
    }
  ],
  "metadata": {
    "kernelspec": {
      "display_name": "venv",
      "language": "python",
      "name": "python3"
    },
    "language_info": {
      "codemirror_mode": {
        "name": "ipython",
        "version": 3
      },
      "file_extension": ".py",
      "mimetype": "text/x-python",
      "name": "python",
      "nbconvert_exporter": "python",
      "pygments_lexer": "ipython3",
      "version": "3.12.4"
    }
  },
  "nbformat": 4,
  "nbformat_minor": 5
}
