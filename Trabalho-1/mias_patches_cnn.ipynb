{
  "cells": [
    {
      "cell_type": "markdown",
      "metadata": {},
      "source": [
        "# Notebook 3 — Patches 32×32, Balanceamento e CNN (mini-MIAS)\n",
        "\n",
        "Este notebook continua o pipeline após o **Notebook 2 (equalização)**.\n",
        "\n",
        "## Objetivos\n",
        "1. **Carregar** as imagens **equalizadas** (ou pré-processadas) e seus metadados;\n",
        "2. **Extrair patches** de tamanho **32×32** com `stride` configurável, usando a máscara para evitar fundo;\n",
        "3. **Atribuir rótulos** por `SEVERITY` (Normal/Benign/Malignant) a partir do `preprocess_manifest.csv`;\n",
        "4. **Balancear** o dataset por classe usando **undersampling** até o tamanho da classe minoritária;\n",
        "5. **Split por REFNUM** (70/15/15) para evitar *data leakage* entre patches da mesma imagem;\n",
        "6. **Treinar uma CNN** simples (Keras) e **avaliar** com Accuracy, Precision, Recall, F1 e **matriz de confusão**.\n",
        "\n",
        "### Pré-requisitos\n",
        "- Notebook 1: `outputs_preproc/` existente (imagens e máscaras)\n",
        "- Notebook 2: `outputs_eq/<modo>/` existente com as equalizações ou usar as pré-processadas\n",
        "- `outputs_preproc/preprocess_manifest.csv` gerado\n"
      ]
    },
    {
      "cell_type": "markdown",
      "id": "dead5568",
      "metadata": {},
      "source": [
        "### Importações"
      ]
    },
    {
      "cell_type": "code",
      "execution_count": 14,
      "id": "33e48bee",
      "metadata": {},
      "outputs": [],
      "source": [
        "from pathlib import Path\n",
        "import numpy as np\n",
        "import random\n",
        "import tensorflow as tf\n",
        "import os, re, glob\n",
        "import pandas as pd\n",
        "import cv2\n",
        "import matplotlib.pyplot as plt\n",
        "from pathlib import Path\n",
        "from collections import Counter, defaultdict\n",
        "from sklearn.preprocessing import LabelEncoder\n",
        "from sklearn.metrics import classification_report, confusion_matrix\n",
        "import tensorflow as tf\n",
        "from tensorflow.keras import layers, models\n",
        "from collections import defaultdict\n",
        "from collections import Counter\n"
      ]
    },
    {
      "cell_type": "markdown",
      "id": "fa0cee13",
      "metadata": {},
      "source": [
        "### Configurações iniciais e utilidades"
      ]
    },
    {
      "cell_type": "code",
      "execution_count": 16,
      "id": "5c900f88",
      "metadata": {},
      "outputs": [
        {
          "name": "stdout",
          "output_type": "stream",
          "text": [
            "Config OK: {'PATCH_SIZE': 32, 'STRIDE': 32, 'MASK_MIN_FRACTION': 0.6, 'LR': 0.001}\n"
          ]
        }
      ],
      "source": [
        "PATCH_SIZE = 32\n",
        "STRIDE = 16\n",
        "MASK_MIN_FRACTION = 0.50\n",
        "\n",
        "RANDOM_SEED = 42\n",
        "BATCH_SIZE = 64\n",
        "EPOCHS = 25\n",
        "LR = 5e-4\n",
        "\n",
        "BASE_DIR = Path('.')\n",
        "PREPROC_DIR = BASE_DIR / 'outputs_preproc'\n",
        "PREPROC_IMG_DIR = PREPROC_DIR / 'images'\n",
        "PREPROC_MSK_DIR = PREPROC_DIR / 'masks'\n",
        "PREPROC_MANIFEST = PREPROC_DIR / 'preprocess_manifest.csv'\n",
        "\n",
        "EQUALIZATION_MODE = 'clahe_test6'   \n",
        "EQ_DIR = BASE_DIR / 'outputs_eq' / EQUALIZATION_MODE if EQUALIZATION_MODE else None\n",
        "\n",
        "# Extração de patches\n",
        "PATCH_SIZE = 32\n",
        "STRIDE = 32   # 16 para overlaps\n",
        "MASK_MIN_FRACTION = 0.6  # fração mínima de pixels da mama dentro do patch\n",
        "\n",
        "# Split por REFNUM (evita vazamento)\n",
        "SPLIT = {'train': 0.70, 'val': 0.15, 'test': 0.15}\n",
        "RANDOM_SEED = 42\n",
        "\n",
        "# Treino\n",
        "BATCH_SIZE = 64\n",
        "EPOCHS = 20\n",
        "LR = 1e-3\n",
        "EQ_DIR = BASE_DIR / 'outputs_eq' / EQUALIZATION_MODE if EQUALIZATION_MODE else None\n",
        "\n",
        "np.random.seed(RANDOM_SEED)\n",
        "random.seed(RANDOM_SEED)\n",
        "tf.random.set_seed(RANDOM_SEED)\n",
        "print('Config OK:', {'PATCH_SIZE': PATCH_SIZE, 'STRIDE': STRIDE, 'MASK_MIN_FRACTION': MASK_MIN_FRACTION, 'LR': LR})"
      ]
    },
    {
      "cell_type": "markdown",
      "id": "92701af0",
      "metadata": {},
      "source": [
        "#### Utilidades"
      ]
    },
    {
      "cell_type": "code",
      "execution_count": 17,
      "id": "93c5b3f7",
      "metadata": {
        "trusted": true
      },
      "outputs": [],
      "source": [
        "def read_gray_float01(path: Path):\n",
        "    import skimage.io as skio\n",
        "    img = skio.imread(path)\n",
        "    if img.ndim == 3:\n",
        "        img = cv2.cvtColor(img, cv2.COLOR_RGB2GRAY)\n",
        "    img = img.astype(np.float32)\n",
        "    if img.max() > 1:\n",
        "        img /= 255.0\n",
        "    return np.clip(img, 0.0, 1.0)\n",
        "\n",
        "def extract_patches_from_image(img, msk, patch=32, stride=32, mask_min_fraction=0.6):\n",
        "    H, W = img.shape\n",
        "    patches = []\n",
        "    for y in range(0, H - patch + 1, stride):\n",
        "        for x in range(0, W - patch + 1, stride):\n",
        "            roi = img[y:y+patch, x:x+patch]\n",
        "            rmask = msk[y:y+patch, x:x+patch]\n",
        "            if rmask.mean() >= mask_min_fraction:\n",
        "                patches.append((roi, (y, x)))\n",
        "    return patches\n",
        "\n",
        "def clean_severity(v):\n",
        "    import numpy as np\n",
        "    if hasattr(v, 'iloc'):\n",
        "        try:\n",
        "            v = v.iloc[0]\n",
        "        except Exception:\n",
        "            v = str(v)\n",
        "    if isinstance(v, (list, tuple, np.ndarray)):\n",
        "        v = v[0] if len(v) else ''\n",
        "    v = str(v).replace('\\n', ' ').strip()\n",
        "    vl = v.lower()\n",
        "    if 'normal' in vl: return 'Normal'\n",
        "    if 'benign' in vl: return 'Benign'\n",
        "    if 'malig'  in vl: return 'Malignant'\n",
        "    return v or 'Unknown'\n",
        "\n",
        "def build_cnn_bn(input_shape=(32,32,1), n_classes=3, lr=1e-3):\n",
        "    inputs = tf.keras.Input(shape=input_shape)\n",
        "    x = layers.Conv2D(32, (3,3), padding='same', activation='relu')(inputs)\n",
        "    x = layers.BatchNormalization()(x)\n",
        "    x = layers.MaxPooling2D((2,2))(x)\n",
        "    x = layers.Conv2D(64, (3,3), padding='same', activation='relu')(x)\n",
        "    x = layers.BatchNormalization()(x)\n",
        "    x = layers.MaxPooling2D((2,2))(x)\n",
        "    x = layers.Conv2D(128, (3,3), padding='same', activation='relu')(x)\n",
        "    x = layers.BatchNormalization()(x)\n",
        "    x = layers.Flatten()(x)\n",
        "    x = layers.Dropout(0.4)(x)\n",
        "    x = layers.Dense(128, activation='relu')(x)\n",
        "    x = layers.BatchNormalization()(x)\n",
        "    outputs = layers.Dense(n_classes, activation='softmax')(x)\n",
        "    m = tf.keras.Model(inputs, outputs)\n",
        "    m.compile(optimizer=tf.keras.optimizers.Adam(learning_rate=lr),\n",
        "              loss='sparse_categorical_crossentropy',\n",
        "              metrics=['accuracy'])\n",
        "    return m\n",
        "\n",
        "def bincount_named(y, le):\n",
        "    import numpy as np\n",
        "    if len(y) == 0:\n",
        "        return {}\n",
        "    bc = np.bincount(y, minlength=len(le.classes_))\n",
        "    return {cls: int(bc[i]) for i, cls in enumerate(le.classes_)}\n"
      ]
    },
    {
      "cell_type": "markdown",
      "id": "eca62058",
      "metadata": {},
      "source": [
        "### 1) `df_img` → limpeza de rótulos"
      ]
    },
    {
      "cell_type": "code",
      "execution_count": 18,
      "id": "f5f77e8a",
      "metadata": {
        "trusted": true
      },
      "outputs": [
        {
          "name": "stdout",
          "output_type": "stream",
          "text": [
            "Linhas no manifest: 644\n",
            "Imagens utilizáveis: 644\n"
          ]
        },
        {
          "data": {
            "text/html": [
              "<div>\n",
              "<style scoped>\n",
              "    .dataframe tbody tr th:only-of-type {\n",
              "        vertical-align: middle;\n",
              "    }\n",
              "\n",
              "    .dataframe tbody tr th {\n",
              "        vertical-align: top;\n",
              "    }\n",
              "\n",
              "    .dataframe thead th {\n",
              "        text-align: right;\n",
              "    }\n",
              "</style>\n",
              "<table border=\"1\" class=\"dataframe\">\n",
              "  <thead>\n",
              "    <tr style=\"text-align: right;\">\n",
              "      <th></th>\n",
              "      <th>REFNUM</th>\n",
              "      <th>img_path</th>\n",
              "      <th>mask_path</th>\n",
              "      <th>SEVERITY</th>\n",
              "      <th>DENSITY</th>\n",
              "      <th>CLASS</th>\n",
              "      <th>CLASS_GROUP</th>\n",
              "    </tr>\n",
              "  </thead>\n",
              "  <tbody>\n",
              "    <tr>\n",
              "      <th>0</th>\n",
              "      <td>mdb001</td>\n",
              "      <td>outputs_eq\\clahe_test6\\mdb001_clahe_test6.png</td>\n",
              "      <td>outputs_preproc\\masks\\mdb001_mask.png</td>\n",
              "      <td>Benign</td>\n",
              "      <td>B</td>\n",
              "      <td>CIRC</td>\n",
              "      <td>Masses</td>\n",
              "    </tr>\n",
              "    <tr>\n",
              "      <th>1</th>\n",
              "      <td>mdb001</td>\n",
              "      <td>outputs_eq\\clahe_test6\\mdb001_clahe_test6.png</td>\n",
              "      <td>outputs_preproc\\masks\\mdb001_mask.png</td>\n",
              "      <td>Benign</td>\n",
              "      <td>B</td>\n",
              "      <td>CIRC</td>\n",
              "      <td>Masses</td>\n",
              "    </tr>\n",
              "    <tr>\n",
              "      <th>2</th>\n",
              "      <td>mdb002</td>\n",
              "      <td>outputs_eq\\clahe_test6\\mdb002_clahe_test6.png</td>\n",
              "      <td>outputs_preproc\\masks\\mdb002_mask.png</td>\n",
              "      <td>Benign</td>\n",
              "      <td>B</td>\n",
              "      <td>CIRC</td>\n",
              "      <td>Masses</td>\n",
              "    </tr>\n",
              "  </tbody>\n",
              "</table>\n",
              "</div>"
            ],
            "text/plain": [
              "   REFNUM                                       img_path  \\\n",
              "0  mdb001  outputs_eq\\clahe_test6\\mdb001_clahe_test6.png   \n",
              "1  mdb001  outputs_eq\\clahe_test6\\mdb001_clahe_test6.png   \n",
              "2  mdb002  outputs_eq\\clahe_test6\\mdb002_clahe_test6.png   \n",
              "\n",
              "                               mask_path SEVERITY DENSITY CLASS CLASS_GROUP  \n",
              "0  outputs_preproc\\masks\\mdb001_mask.png   Benign       B  CIRC      Masses  \n",
              "1  outputs_preproc\\masks\\mdb001_mask.png   Benign       B  CIRC      Masses  \n",
              "2  outputs_preproc\\masks\\mdb002_mask.png   Benign       B  CIRC      Masses  "
            ]
          },
          "execution_count": 18,
          "metadata": {},
          "output_type": "execute_result"
        }
      ],
      "source": [
        "assert PREPROC_MANIFEST.is_file(), f\"Manifest não encontrado: {PREPROC_MANIFEST}\"\n",
        "meta = pd.read_csv(PREPROC_MANIFEST)\n",
        "\n",
        "# Ajusta REFNUM para minúsculas\n",
        "meta['REFNUM'] = meta['REFNUM'].astype(str).str.lower()\n",
        "\n",
        "# Seleciona apenas colunas relevantes\n",
        "cols = ['REFNUM','output_img','output_mask','SEVERITY','DENSITY','CLASS','CLASS_GROUP']\n",
        "for c in cols:\n",
        "    if c not in meta.columns:\n",
        "        meta[c] = np.nan\n",
        "meta = meta[cols]\n",
        "\n",
        "print('Linhas no manifest:', len(meta))\n",
        "meta.head(3)\n",
        "\n",
        "def eq_path_for_ref(refnum: str, mode: str):\n",
        "    if not mode:\n",
        "        return None\n",
        "    # Saída do Notebook 2 salva como: <ref>_<modo>.png (onde <ref> é stem sem _preproc)\n",
        "    # Ex.: mdb001_clahe_test6.png\n",
        "    return (EQ_DIR / f\"{refnum}_{mode}.png\")\n",
        "\n",
        "def build_records(meta_df: pd.DataFrame, mode: str):\n",
        "    recs = []\n",
        "    for _, row in meta_df.iterrows():\n",
        "        ref = row['REFNUM']\n",
        "        mask_path = Path(row['output_mask']) if isinstance(row['output_mask'], str) else None\n",
        "        if mode:\n",
        "            img_path = eq_path_for_ref(ref, mode)\n",
        "        else:\n",
        "            # usa a pré-processada\n",
        "            img_path = Path(str(row['output_img']).replace('_preproc.png', '_preproc.png'))\n",
        "        recs.append({\n",
        "            'REFNUM': ref,\n",
        "            'img_path': str(img_path) if img_path else None,\n",
        "            'mask_path': str(mask_path) if mask_path else None,\n",
        "            'SEVERITY': row['SEVERITY'],\n",
        "            'DENSITY': row['DENSITY'],\n",
        "            'CLASS': row['CLASS'],\n",
        "            'CLASS_GROUP': row['CLASS_GROUP'],\n",
        "        })\n",
        "    df = pd.DataFrame(recs)\n",
        "    # Mantém somente registros existentes em disco\n",
        "    df = df[df['img_path'].apply(lambda p: Path(p).is_file())]\n",
        "    df = df[df['mask_path'].apply(lambda p: Path(p).is_file())]\n",
        "    return df\n",
        "\n",
        "df_img = build_records(meta, EQUALIZATION_MODE)\n",
        "print('Imagens utilizáveis:', len(df_img))\n",
        "df_img.head(3)\n",
        "\n",
        "assert 'df_img' in globals(), 'df_img não encontrado. Execute as células anteriores que constroem df_img.'\n",
        "df_img = df_img.copy()\n",
        "df_img['SEVERITY'] = df_img['SEVERITY'].apply(clean_severity).astype(str)\n",
        "df_img.head(3)"
      ]
    },
    {
      "cell_type": "markdown",
      "id": "60441705",
      "metadata": {},
      "source": [
        "### 2) Reextração de patches (32×32, STRIDE=16, MASK_MIN_FRACTION=0.50)"
      ]
    },
    {
      "cell_type": "code",
      "execution_count": 19,
      "id": "867eeb4f",
      "metadata": {
        "trusted": true
      },
      "outputs": [
        {
          "name": "stdout",
          "output_type": "stream",
          "text": [
            "Total de patches extraídos: 452326\n",
            "SEVERITY\n",
            "Normal       291920\n",
            "Benign        89912\n",
            "Malignant     70494\n",
            "Name: count, dtype: int64\n"
          ]
        }
      ],
      "source": [
        "records = []\n",
        "for _, r in df_img.iterrows():\n",
        "    img = read_gray_float01(Path(r['img_path']))\n",
        "    msk = read_gray_float01(Path(r['mask_path']))\n",
        "    msk = (msk > 0.5).astype(np.float32)\n",
        "    pts = extract_patches_from_image(img, msk, patch=PATCH_SIZE, stride=STRIDE, mask_min_fraction=MASK_MIN_FRACTION)\n",
        "    for roi, (yy, xx) in pts:\n",
        "        records.append({'REFNUM': r['REFNUM'], 'SEVERITY': r['SEVERITY'], 'patch': roi.astype(np.float32)})\n",
        "\n",
        "df_patches = pd.DataFrame(records)\n",
        "print('Total de patches extraídos:', len(df_patches))\n",
        "print(df_patches['SEVERITY'].value_counts(dropna=False))"
      ]
    },
    {
      "cell_type": "markdown",
      "id": "32c88d13",
      "metadata": {},
      "source": [
        "### 3) Split por REFNUM (70/15/15) + Balanceamento (undersampling)"
      ]
    },
    {
      "cell_type": "code",
      "execution_count": null,
      "id": "825d7367",
      "metadata": {
        "trusted": true
      },
      "outputs": [
        {
          "name": "stdout",
          "output_type": "stream",
          "text": [
            "Patches por split (ANTES do balanceamento):\n",
            "train: {'Normal': 202326, 'Benign': 62738, 'Malignant': 48382}\n",
            "val  : {'Normal': 44486, 'Benign': 11982, 'Malignant': 10174}\n",
            "test : {'Normal': 45108, 'Benign': 15192, 'Malignant': 11938}\n",
            "\n",
            "Patches por split (APÓS balanceamento):\n",
            "train: {'Malignant': 48382, 'Normal': 48382, 'Benign': 48382}\n",
            "val  : {'Benign': 10174, 'Normal': 10174, 'Malignant': 10174}\n",
            "test : {'Malignant': 11938, 'Benign': 11938, 'Normal': 11938}\n"
          ]
        }
      ],
      "source": [
        "ref2label = df_patches.groupby('REFNUM')['SEVERITY'].agg(lambda s: s.iloc[0]).to_dict()\n",
        "by_class_refs = defaultdict(list)\n",
        "for ref, lab in ref2label.items():\n",
        "    by_class_refs[str(lab)].append(ref)\n",
        "\n",
        "train_refs, val_refs, test_refs = set(), set(), set()\n",
        "rng = np.random.RandomState(42)\n",
        "SPLIT = {'train': 0.70, 'val': 0.15, 'test': 0.15}\n",
        "for lab, refs in by_class_refs.items():\n",
        "    refs = sorted(refs)\n",
        "    rng.shuffle(refs)\n",
        "    n = len(refs)\n",
        "    n_train = int(SPLIT['train'] * n)\n",
        "    n_val = int(SPLIT['val'] * n)\n",
        "    train_refs.update(refs[:n_train])\n",
        "    val_refs.update(refs[n_train:n_train+n_val])\n",
        "    test_refs.update(refs[n_train+n_val:])\n",
        "\n",
        "def subset_by_refs(df, refs):\n",
        "    return df[df['REFNUM'].isin(refs)].copy()\n",
        "\n",
        "train_df = subset_by_refs(df_patches, train_refs)\n",
        "val_df   = subset_by_refs(df_patches, val_refs)\n",
        "test_df  = subset_by_refs(df_patches, test_refs)\n",
        "\n",
        "print('Patches por split (ANTES do balanceamento):')\n",
        "print('train:', train_df['SEVERITY'].value_counts(dropna=False).to_dict())\n",
        "print('val  :', val_df['SEVERITY'].value_counts(dropna=False).to_dict())\n",
        "print('test :', test_df['SEVERITY'].value_counts(dropna=False).to_dict())\n",
        "\n",
        "def undersample_to_min(df, label_col='SEVERITY', seed=42):\n",
        "    counts = df[label_col].value_counts()\n",
        "    if len(counts) == 0:\n",
        "        return df\n",
        "    min_count = counts.min()\n",
        "    parts = [df[df[label_col]==lab].sample(min_count, random_state=seed) for lab in counts.index]\n",
        "    out = pd.concat(parts, axis=0).sample(frac=1.0, random_state=seed).reset_index(drop=True)\n",
        "    return out\n",
        "\n",
        "train_df_bal = undersample_to_min(train_df)\n",
        "val_df_bal   = undersample_to_min(val_df)\n",
        "test_df_bal  = undersample_to_min(test_df)\n",
        "\n",
        "print('\\nPatches por split (APÓS balanceamento):')\n",
        "print('train:', train_df_bal['SEVERITY'].value_counts(dropna=False).to_dict())\n",
        "print('val  :', val_df_bal['SEVERITY'].value_counts(dropna=False).to_dict())\n",
        "print('test :', test_df_bal['SEVERITY'].value_counts(dropna=False).to_dict())"
      ]
    },
    {
      "cell_type": "markdown",
      "id": "bed0c183",
      "metadata": {},
      "source": [
        "### 4) Encoder/Arrays + Diagnósticos"
      ]
    },
    {
      "cell_type": "code",
      "execution_count": 9,
      "id": "4ecf0ce7",
      "metadata": {
        "trusted": true
      },
      "outputs": [
        {
          "name": "stdout",
          "output_type": "stream",
          "text": [
            "== CONTAGEM POR CLASSE (DataFrame, ANTES do encoder) ==\n",
            "\n",
            "train_df_bal: 145146 patches\n",
            "SEVERITY\n",
            "Malignant    48382\n",
            "Normal       48382\n",
            "Benign       48382\n",
            "Name: count, dtype: int64\n",
            "Classes únicas: ['Benign', 'Malignant', 'Normal']\n",
            "\n",
            "val_df_bal: 30522 patches\n",
            "SEVERITY\n",
            "Benign       10174\n",
            "Normal       10174\n",
            "Malignant    10174\n",
            "Name: count, dtype: int64\n",
            "Classes únicas: ['Benign', 'Malignant', 'Normal']\n",
            "\n",
            "test_df_bal: 35814 patches\n",
            "SEVERITY\n",
            "Malignant    11938\n",
            "Benign       11938\n",
            "Normal       11938\n",
            "Name: count, dtype: int64\n",
            "Classes únicas: ['Benign', 'Malignant', 'Normal']\n",
            "\n",
            "Classes (ordem do encoder): ['Benign', 'Malignant', 'Normal']\n",
            "\n",
            "== CONTAGEM POR CLASSE (arrays, DEPOIS do encoder) ==\n",
            "y_train: {'Benign': 48382, 'Malignant': 48382, 'Normal': 48382}\n",
            "y_val  : {'Benign': 10174, 'Malignant': 10174, 'Normal': 10174}\n",
            "y_test : {'Benign': 11938, 'Malignant': 11938, 'Normal': 11938}\n",
            "\n",
            "Shapes: (145146, 32, 32, 1) (30522, 32, 32, 1) (35814, 32, 32, 1)\n"
          ]
        }
      ],
      "source": [
        "print('== CONTAGEM POR CLASSE (DataFrame, ANTES do encoder) ==')\n",
        "for name, df_ in [('train_df_bal', train_df_bal), ('val_df_bal', val_df_bal), ('test_df_bal', test_df_bal)]:\n",
        "    print(f\"\\n{name}: {len(df_)} patches\")\n",
        "    print(df_['SEVERITY'].value_counts(dropna=False))\n",
        "    print('Classes únicas:', sorted(df_['SEVERITY'].astype(str).unique().tolist()))\n",
        "\n",
        "le = LabelEncoder()\n",
        "le.fit(train_df_bal['SEVERITY'].astype(str).values)\n",
        "n_classes = len(le.classes_)\n",
        "print('\\nClasses (ordem do encoder):', list(le.classes_))\n",
        "\n",
        "def df_to_xy(df):\n",
        "    if len(df) == 0:\n",
        "        return (np.empty((0, PATCH_SIZE, PATCH_SIZE, 1), dtype=np.float32), np.empty((0,), dtype=np.int64))\n",
        "    cats = pd.Categorical(df['SEVERITY'].astype(str), categories=list(le.classes_))\n",
        "    y_codes = cats.codes\n",
        "    mask = y_codes != -1\n",
        "    if mask.sum() == 0:\n",
        "        return (np.empty((0, PATCH_SIZE, PATCH_SIZE, 1), dtype=np.float32), np.empty((0,), dtype=np.int64))\n",
        "    X = np.stack(df.loc[mask, 'patch'].values).astype(np.float32)\n",
        "    X = X[..., np.newaxis]\n",
        "    y = y_codes[mask].astype(np.int64)\n",
        "    return X, y\n",
        "\n",
        "X_train, y_train = df_to_xy(train_df_bal)\n",
        "X_val,   y_val   = df_to_xy(val_df_bal)\n",
        "X_test,  y_test  = df_to_xy(test_df_bal)\n",
        "\n",
        "def bincount_named(y, le):\n",
        "    if len(y) == 0:\n",
        "        return {}\n",
        "    bc = np.bincount(y, minlength=len(le.classes_))\n",
        "    return {cls: int(bc[i]) for i, cls in enumerate(le.classes_)}\n",
        "\n",
        "print('\\n== CONTAGEM POR CLASSE (arrays, DEPOIS do encoder) ==')\n",
        "print('y_train:', bincount_named(y_train, le))\n",
        "print('y_val  :', bincount_named(y_val,   le))\n",
        "print('y_test :', bincount_named(y_test,  le))\n",
        "\n",
        "assert len(np.unique(y_train)) == n_classes, f\"Alguma classe ausente no treino: {np.unique(y_train)} de {n_classes}\"\n",
        "print('\\nShapes:', X_train.shape, X_val.shape, X_test.shape)"
      ]
    },
    {
      "cell_type": "markdown",
      "id": "d2fc164d",
      "metadata": {},
      "source": [
        "### 5) Treino com `class_weight` + CNN com BN/Dropout"
      ]
    },
    {
      "cell_type": "code",
      "execution_count": null,
      "id": "df6f579f",
      "metadata": {
        "trusted": true
      },
      "outputs": [
        {
          "name": "stdout",
          "output_type": "stream",
          "text": [
            "class_weight: {0: 1.0, 1: 1.0, 2: 1.0}\n"
          ]
        },
        {
          "data": {
            "text/html": [
              "<pre style=\"white-space:pre;overflow-x:auto;line-height:normal;font-family:Menlo,'DejaVu Sans Mono',consolas,'Courier New',monospace\"><span style=\"font-weight: bold\">Model: \"functional\"</span>\n",
              "</pre>\n"
            ],
            "text/plain": [
              "\u001b[1mModel: \"functional\"\u001b[0m\n"
            ]
          },
          "metadata": {},
          "output_type": "display_data"
        },
        {
          "data": {
            "text/html": [
              "<pre style=\"white-space:pre;overflow-x:auto;line-height:normal;font-family:Menlo,'DejaVu Sans Mono',consolas,'Courier New',monospace\">┏━━━━━━━━━━━━━━━━━━━━━━━━━━━━━━━━━┳━━━━━━━━━━━━━━━━━━━━━━━━┳━━━━━━━━━━━━━━━┓\n",
              "┃<span style=\"font-weight: bold\"> Layer (type)                    </span>┃<span style=\"font-weight: bold\"> Output Shape           </span>┃<span style=\"font-weight: bold\">       Param # </span>┃\n",
              "┡━━━━━━━━━━━━━━━━━━━━━━━━━━━━━━━━━╇━━━━━━━━━━━━━━━━━━━━━━━━╇━━━━━━━━━━━━━━━┩\n",
              "│ input_layer (<span style=\"color: #0087ff; text-decoration-color: #0087ff\">InputLayer</span>)        │ (<span style=\"color: #00d7ff; text-decoration-color: #00d7ff\">None</span>, <span style=\"color: #00af00; text-decoration-color: #00af00\">32</span>, <span style=\"color: #00af00; text-decoration-color: #00af00\">32</span>, <span style=\"color: #00af00; text-decoration-color: #00af00\">1</span>)      │             <span style=\"color: #00af00; text-decoration-color: #00af00\">0</span> │\n",
              "├─────────────────────────────────┼────────────────────────┼───────────────┤\n",
              "│ conv2d (<span style=\"color: #0087ff; text-decoration-color: #0087ff\">Conv2D</span>)                 │ (<span style=\"color: #00d7ff; text-decoration-color: #00d7ff\">None</span>, <span style=\"color: #00af00; text-decoration-color: #00af00\">32</span>, <span style=\"color: #00af00; text-decoration-color: #00af00\">32</span>, <span style=\"color: #00af00; text-decoration-color: #00af00\">32</span>)     │           <span style=\"color: #00af00; text-decoration-color: #00af00\">320</span> │\n",
              "├─────────────────────────────────┼────────────────────────┼───────────────┤\n",
              "│ batch_normalization             │ (<span style=\"color: #00d7ff; text-decoration-color: #00d7ff\">None</span>, <span style=\"color: #00af00; text-decoration-color: #00af00\">32</span>, <span style=\"color: #00af00; text-decoration-color: #00af00\">32</span>, <span style=\"color: #00af00; text-decoration-color: #00af00\">32</span>)     │           <span style=\"color: #00af00; text-decoration-color: #00af00\">128</span> │\n",
              "│ (<span style=\"color: #0087ff; text-decoration-color: #0087ff\">BatchNormalization</span>)            │                        │               │\n",
              "├─────────────────────────────────┼────────────────────────┼───────────────┤\n",
              "│ max_pooling2d (<span style=\"color: #0087ff; text-decoration-color: #0087ff\">MaxPooling2D</span>)    │ (<span style=\"color: #00d7ff; text-decoration-color: #00d7ff\">None</span>, <span style=\"color: #00af00; text-decoration-color: #00af00\">16</span>, <span style=\"color: #00af00; text-decoration-color: #00af00\">16</span>, <span style=\"color: #00af00; text-decoration-color: #00af00\">32</span>)     │             <span style=\"color: #00af00; text-decoration-color: #00af00\">0</span> │\n",
              "├─────────────────────────────────┼────────────────────────┼───────────────┤\n",
              "│ conv2d_1 (<span style=\"color: #0087ff; text-decoration-color: #0087ff\">Conv2D</span>)               │ (<span style=\"color: #00d7ff; text-decoration-color: #00d7ff\">None</span>, <span style=\"color: #00af00; text-decoration-color: #00af00\">16</span>, <span style=\"color: #00af00; text-decoration-color: #00af00\">16</span>, <span style=\"color: #00af00; text-decoration-color: #00af00\">64</span>)     │        <span style=\"color: #00af00; text-decoration-color: #00af00\">18,496</span> │\n",
              "├─────────────────────────────────┼────────────────────────┼───────────────┤\n",
              "│ batch_normalization_1           │ (<span style=\"color: #00d7ff; text-decoration-color: #00d7ff\">None</span>, <span style=\"color: #00af00; text-decoration-color: #00af00\">16</span>, <span style=\"color: #00af00; text-decoration-color: #00af00\">16</span>, <span style=\"color: #00af00; text-decoration-color: #00af00\">64</span>)     │           <span style=\"color: #00af00; text-decoration-color: #00af00\">256</span> │\n",
              "│ (<span style=\"color: #0087ff; text-decoration-color: #0087ff\">BatchNormalization</span>)            │                        │               │\n",
              "├─────────────────────────────────┼────────────────────────┼───────────────┤\n",
              "│ max_pooling2d_1 (<span style=\"color: #0087ff; text-decoration-color: #0087ff\">MaxPooling2D</span>)  │ (<span style=\"color: #00d7ff; text-decoration-color: #00d7ff\">None</span>, <span style=\"color: #00af00; text-decoration-color: #00af00\">8</span>, <span style=\"color: #00af00; text-decoration-color: #00af00\">8</span>, <span style=\"color: #00af00; text-decoration-color: #00af00\">64</span>)       │             <span style=\"color: #00af00; text-decoration-color: #00af00\">0</span> │\n",
              "├─────────────────────────────────┼────────────────────────┼───────────────┤\n",
              "│ conv2d_2 (<span style=\"color: #0087ff; text-decoration-color: #0087ff\">Conv2D</span>)               │ (<span style=\"color: #00d7ff; text-decoration-color: #00d7ff\">None</span>, <span style=\"color: #00af00; text-decoration-color: #00af00\">8</span>, <span style=\"color: #00af00; text-decoration-color: #00af00\">8</span>, <span style=\"color: #00af00; text-decoration-color: #00af00\">128</span>)      │        <span style=\"color: #00af00; text-decoration-color: #00af00\">73,856</span> │\n",
              "├─────────────────────────────────┼────────────────────────┼───────────────┤\n",
              "│ batch_normalization_2           │ (<span style=\"color: #00d7ff; text-decoration-color: #00d7ff\">None</span>, <span style=\"color: #00af00; text-decoration-color: #00af00\">8</span>, <span style=\"color: #00af00; text-decoration-color: #00af00\">8</span>, <span style=\"color: #00af00; text-decoration-color: #00af00\">128</span>)      │           <span style=\"color: #00af00; text-decoration-color: #00af00\">512</span> │\n",
              "│ (<span style=\"color: #0087ff; text-decoration-color: #0087ff\">BatchNormalization</span>)            │                        │               │\n",
              "├─────────────────────────────────┼────────────────────────┼───────────────┤\n",
              "│ flatten (<span style=\"color: #0087ff; text-decoration-color: #0087ff\">Flatten</span>)               │ (<span style=\"color: #00d7ff; text-decoration-color: #00d7ff\">None</span>, <span style=\"color: #00af00; text-decoration-color: #00af00\">8192</span>)           │             <span style=\"color: #00af00; text-decoration-color: #00af00\">0</span> │\n",
              "├─────────────────────────────────┼────────────────────────┼───────────────┤\n",
              "│ dropout (<span style=\"color: #0087ff; text-decoration-color: #0087ff\">Dropout</span>)               │ (<span style=\"color: #00d7ff; text-decoration-color: #00d7ff\">None</span>, <span style=\"color: #00af00; text-decoration-color: #00af00\">8192</span>)           │             <span style=\"color: #00af00; text-decoration-color: #00af00\">0</span> │\n",
              "├─────────────────────────────────┼────────────────────────┼───────────────┤\n",
              "│ dense (<span style=\"color: #0087ff; text-decoration-color: #0087ff\">Dense</span>)                   │ (<span style=\"color: #00d7ff; text-decoration-color: #00d7ff\">None</span>, <span style=\"color: #00af00; text-decoration-color: #00af00\">128</span>)            │     <span style=\"color: #00af00; text-decoration-color: #00af00\">1,048,704</span> │\n",
              "├─────────────────────────────────┼────────────────────────┼───────────────┤\n",
              "│ batch_normalization_3           │ (<span style=\"color: #00d7ff; text-decoration-color: #00d7ff\">None</span>, <span style=\"color: #00af00; text-decoration-color: #00af00\">128</span>)            │           <span style=\"color: #00af00; text-decoration-color: #00af00\">512</span> │\n",
              "│ (<span style=\"color: #0087ff; text-decoration-color: #0087ff\">BatchNormalization</span>)            │                        │               │\n",
              "├─────────────────────────────────┼────────────────────────┼───────────────┤\n",
              "│ dense_1 (<span style=\"color: #0087ff; text-decoration-color: #0087ff\">Dense</span>)                 │ (<span style=\"color: #00d7ff; text-decoration-color: #00d7ff\">None</span>, <span style=\"color: #00af00; text-decoration-color: #00af00\">3</span>)              │           <span style=\"color: #00af00; text-decoration-color: #00af00\">387</span> │\n",
              "└─────────────────────────────────┴────────────────────────┴───────────────┘\n",
              "</pre>\n"
            ],
            "text/plain": [
              "┏━━━━━━━━━━━━━━━━━━━━━━━━━━━━━━━━━┳━━━━━━━━━━━━━━━━━━━━━━━━┳━━━━━━━━━━━━━━━┓\n",
              "┃\u001b[1m \u001b[0m\u001b[1mLayer (type)                   \u001b[0m\u001b[1m \u001b[0m┃\u001b[1m \u001b[0m\u001b[1mOutput Shape          \u001b[0m\u001b[1m \u001b[0m┃\u001b[1m \u001b[0m\u001b[1m      Param #\u001b[0m\u001b[1m \u001b[0m┃\n",
              "┡━━━━━━━━━━━━━━━━━━━━━━━━━━━━━━━━━╇━━━━━━━━━━━━━━━━━━━━━━━━╇━━━━━━━━━━━━━━━┩\n",
              "│ input_layer (\u001b[38;5;33mInputLayer\u001b[0m)        │ (\u001b[38;5;45mNone\u001b[0m, \u001b[38;5;34m32\u001b[0m, \u001b[38;5;34m32\u001b[0m, \u001b[38;5;34m1\u001b[0m)      │             \u001b[38;5;34m0\u001b[0m │\n",
              "├─────────────────────────────────┼────────────────────────┼───────────────┤\n",
              "│ conv2d (\u001b[38;5;33mConv2D\u001b[0m)                 │ (\u001b[38;5;45mNone\u001b[0m, \u001b[38;5;34m32\u001b[0m, \u001b[38;5;34m32\u001b[0m, \u001b[38;5;34m32\u001b[0m)     │           \u001b[38;5;34m320\u001b[0m │\n",
              "├─────────────────────────────────┼────────────────────────┼───────────────┤\n",
              "│ batch_normalization             │ (\u001b[38;5;45mNone\u001b[0m, \u001b[38;5;34m32\u001b[0m, \u001b[38;5;34m32\u001b[0m, \u001b[38;5;34m32\u001b[0m)     │           \u001b[38;5;34m128\u001b[0m │\n",
              "│ (\u001b[38;5;33mBatchNormalization\u001b[0m)            │                        │               │\n",
              "├─────────────────────────────────┼────────────────────────┼───────────────┤\n",
              "│ max_pooling2d (\u001b[38;5;33mMaxPooling2D\u001b[0m)    │ (\u001b[38;5;45mNone\u001b[0m, \u001b[38;5;34m16\u001b[0m, \u001b[38;5;34m16\u001b[0m, \u001b[38;5;34m32\u001b[0m)     │             \u001b[38;5;34m0\u001b[0m │\n",
              "├─────────────────────────────────┼────────────────────────┼───────────────┤\n",
              "│ conv2d_1 (\u001b[38;5;33mConv2D\u001b[0m)               │ (\u001b[38;5;45mNone\u001b[0m, \u001b[38;5;34m16\u001b[0m, \u001b[38;5;34m16\u001b[0m, \u001b[38;5;34m64\u001b[0m)     │        \u001b[38;5;34m18,496\u001b[0m │\n",
              "├─────────────────────────────────┼────────────────────────┼───────────────┤\n",
              "│ batch_normalization_1           │ (\u001b[38;5;45mNone\u001b[0m, \u001b[38;5;34m16\u001b[0m, \u001b[38;5;34m16\u001b[0m, \u001b[38;5;34m64\u001b[0m)     │           \u001b[38;5;34m256\u001b[0m │\n",
              "│ (\u001b[38;5;33mBatchNormalization\u001b[0m)            │                        │               │\n",
              "├─────────────────────────────────┼────────────────────────┼───────────────┤\n",
              "│ max_pooling2d_1 (\u001b[38;5;33mMaxPooling2D\u001b[0m)  │ (\u001b[38;5;45mNone\u001b[0m, \u001b[38;5;34m8\u001b[0m, \u001b[38;5;34m8\u001b[0m, \u001b[38;5;34m64\u001b[0m)       │             \u001b[38;5;34m0\u001b[0m │\n",
              "├─────────────────────────────────┼────────────────────────┼───────────────┤\n",
              "│ conv2d_2 (\u001b[38;5;33mConv2D\u001b[0m)               │ (\u001b[38;5;45mNone\u001b[0m, \u001b[38;5;34m8\u001b[0m, \u001b[38;5;34m8\u001b[0m, \u001b[38;5;34m128\u001b[0m)      │        \u001b[38;5;34m73,856\u001b[0m │\n",
              "├─────────────────────────────────┼────────────────────────┼───────────────┤\n",
              "│ batch_normalization_2           │ (\u001b[38;5;45mNone\u001b[0m, \u001b[38;5;34m8\u001b[0m, \u001b[38;5;34m8\u001b[0m, \u001b[38;5;34m128\u001b[0m)      │           \u001b[38;5;34m512\u001b[0m │\n",
              "│ (\u001b[38;5;33mBatchNormalization\u001b[0m)            │                        │               │\n",
              "├─────────────────────────────────┼────────────────────────┼───────────────┤\n",
              "│ flatten (\u001b[38;5;33mFlatten\u001b[0m)               │ (\u001b[38;5;45mNone\u001b[0m, \u001b[38;5;34m8192\u001b[0m)           │             \u001b[38;5;34m0\u001b[0m │\n",
              "├─────────────────────────────────┼────────────────────────┼───────────────┤\n",
              "│ dropout (\u001b[38;5;33mDropout\u001b[0m)               │ (\u001b[38;5;45mNone\u001b[0m, \u001b[38;5;34m8192\u001b[0m)           │             \u001b[38;5;34m0\u001b[0m │\n",
              "├─────────────────────────────────┼────────────────────────┼───────────────┤\n",
              "│ dense (\u001b[38;5;33mDense\u001b[0m)                   │ (\u001b[38;5;45mNone\u001b[0m, \u001b[38;5;34m128\u001b[0m)            │     \u001b[38;5;34m1,048,704\u001b[0m │\n",
              "├─────────────────────────────────┼────────────────────────┼───────────────┤\n",
              "│ batch_normalization_3           │ (\u001b[38;5;45mNone\u001b[0m, \u001b[38;5;34m128\u001b[0m)            │           \u001b[38;5;34m512\u001b[0m │\n",
              "│ (\u001b[38;5;33mBatchNormalization\u001b[0m)            │                        │               │\n",
              "├─────────────────────────────────┼────────────────────────┼───────────────┤\n",
              "│ dense_1 (\u001b[38;5;33mDense\u001b[0m)                 │ (\u001b[38;5;45mNone\u001b[0m, \u001b[38;5;34m3\u001b[0m)              │           \u001b[38;5;34m387\u001b[0m │\n",
              "└─────────────────────────────────┴────────────────────────┴───────────────┘\n"
            ]
          },
          "metadata": {},
          "output_type": "display_data"
        },
        {
          "data": {
            "text/html": [
              "<pre style=\"white-space:pre;overflow-x:auto;line-height:normal;font-family:Menlo,'DejaVu Sans Mono',consolas,'Courier New',monospace\"><span style=\"font-weight: bold\"> Total params: </span><span style=\"color: #00af00; text-decoration-color: #00af00\">1,143,171</span> (4.36 MB)\n",
              "</pre>\n"
            ],
            "text/plain": [
              "\u001b[1m Total params: \u001b[0m\u001b[38;5;34m1,143,171\u001b[0m (4.36 MB)\n"
            ]
          },
          "metadata": {},
          "output_type": "display_data"
        },
        {
          "data": {
            "text/html": [
              "<pre style=\"white-space:pre;overflow-x:auto;line-height:normal;font-family:Menlo,'DejaVu Sans Mono',consolas,'Courier New',monospace\"><span style=\"font-weight: bold\"> Trainable params: </span><span style=\"color: #00af00; text-decoration-color: #00af00\">1,142,467</span> (4.36 MB)\n",
              "</pre>\n"
            ],
            "text/plain": [
              "\u001b[1m Trainable params: \u001b[0m\u001b[38;5;34m1,142,467\u001b[0m (4.36 MB)\n"
            ]
          },
          "metadata": {},
          "output_type": "display_data"
        },
        {
          "data": {
            "text/html": [
              "<pre style=\"white-space:pre;overflow-x:auto;line-height:normal;font-family:Menlo,'DejaVu Sans Mono',consolas,'Courier New',monospace\"><span style=\"font-weight: bold\"> Non-trainable params: </span><span style=\"color: #00af00; text-decoration-color: #00af00\">704</span> (2.75 KB)\n",
              "</pre>\n"
            ],
            "text/plain": [
              "\u001b[1m Non-trainable params: \u001b[0m\u001b[38;5;34m704\u001b[0m (2.75 KB)\n"
            ]
          },
          "metadata": {},
          "output_type": "display_data"
        },
        {
          "name": "stdout",
          "output_type": "stream",
          "text": [
            "Epoch 1/20\n",
            "\u001b[1m2268/2268\u001b[0m \u001b[32m━━━━━━━━━━━━━━━━━━━━\u001b[0m\u001b[37m\u001b[0m \u001b[1m103s\u001b[0m 44ms/step - accuracy: 0.3726 - loss: 1.1026 - val_accuracy: 0.3305 - val_loss: 1.1903 - learning_rate: 0.0010\n",
            "Epoch 2/20\n",
            "\u001b[1m2268/2268\u001b[0m \u001b[32m━━━━━━━━━━━━━━━━━━━━\u001b[0m\u001b[37m\u001b[0m \u001b[1m102s\u001b[0m 45ms/step - accuracy: 0.4235 - loss: 1.0633 - val_accuracy: 0.3323 - val_loss: 1.3167 - learning_rate: 0.0010\n",
            "Epoch 3/20\n",
            "\u001b[1m2268/2268\u001b[0m \u001b[32m━━━━━━━━━━━━━━━━━━━━\u001b[0m\u001b[37m\u001b[0m \u001b[1m105s\u001b[0m 46ms/step - accuracy: 0.4971 - loss: 0.9882 - val_accuracy: 0.3262 - val_loss: 1.3465 - learning_rate: 0.0010\n",
            "Epoch 4/20\n",
            "\u001b[1m2268/2268\u001b[0m \u001b[32m━━━━━━━━━━━━━━━━━━━━\u001b[0m\u001b[37m\u001b[0m \u001b[1m0s\u001b[0m 45ms/step - accuracy: 0.5722 - loss: 0.8879\n",
            "Epoch 4: ReduceLROnPlateau reducing learning rate to 0.0005000000237487257.\n",
            "\u001b[1m2268/2268\u001b[0m \u001b[32m━━━━━━━━━━━━━━━━━━━━\u001b[0m\u001b[37m\u001b[0m \u001b[1m108s\u001b[0m 47ms/step - accuracy: 0.5975 - loss: 0.8469 - val_accuracy: 0.4021 - val_loss: 2.0624 - learning_rate: 0.0010\n",
            "Epoch 5/20\n",
            "\u001b[1m2268/2268\u001b[0m \u001b[32m━━━━━━━━━━━━━━━━━━━━\u001b[0m\u001b[37m\u001b[0m \u001b[1m106s\u001b[0m 47ms/step - accuracy: 0.7009 - loss: 0.6674 - val_accuracy: 0.3232 - val_loss: 2.3849 - learning_rate: 5.0000e-04\n",
            "Epoch 6/20\n",
            "\u001b[1m2268/2268\u001b[0m \u001b[32m━━━━━━━━━━━━━━━━━━━━\u001b[0m\u001b[37m\u001b[0m \u001b[1m108s\u001b[0m 47ms/step - accuracy: 0.7509 - loss: 0.5686 - val_accuracy: 0.3395 - val_loss: 2.4090 - learning_rate: 5.0000e-04\n",
            "Epoch 7/20\n",
            "\u001b[1m2268/2268\u001b[0m \u001b[32m━━━━━━━━━━━━━━━━━━━━\u001b[0m\u001b[37m\u001b[0m \u001b[1m0s\u001b[0m 52ms/step - accuracy: 0.7799 - loss: 0.5104\n",
            "Epoch 7: ReduceLROnPlateau reducing learning rate to 0.0002500000118743628.\n",
            "\u001b[1m2268/2268\u001b[0m \u001b[32m━━━━━━━━━━━━━━━━━━━━\u001b[0m\u001b[37m\u001b[0m \u001b[1m124s\u001b[0m 55ms/step - accuracy: 0.7902 - loss: 0.4901 - val_accuracy: 0.2988 - val_loss: 2.7947 - learning_rate: 5.0000e-04\n",
            "Epoch 7: early stopping\n",
            "Restoring model weights from the end of the best epoch: 1.\n"
          ]
        }
      ],
      "source": [
        "cnt = Counter(y_train)\n",
        "total = sum(cnt.values())\n",
        "class_weight = {i: total / (n_classes * cnt[i]) for i in range(n_classes)}\n",
        "print('class_weight:', class_weight)\n",
        "\n",
        "model = build_cnn_bn(input_shape=(PATCH_SIZE, PATCH_SIZE, 1), n_classes=n_classes, lr=LR)\n",
        "model.summary()\n",
        "\n",
        "callbacks = [\n",
        "    tf.keras.callbacks.ReduceLROnPlateau(monitor='val_loss', factor=0.5, patience=3, verbose=1),\n",
        "    tf.keras.callbacks.EarlyStopping(monitor='val_loss', patience=6, restore_best_weights=True, verbose=1)\n",
        "]\n",
        "\n",
        "history = model.fit(\n",
        "    X_train, y_train,\n",
        "    validation_data=(X_val, y_val),\n",
        "    epochs=EPOCHS,\n",
        "    batch_size=BATCH_SIZE,\n",
        "    class_weight=class_weight,\n",
        "    callbacks=callbacks,\n",
        "    verbose=1\n",
        ")\n"
      ]
    },
    {
      "cell_type": "markdown",
      "id": "59c72d42",
      "metadata": {},
      "source": [
        "### 6) Avaliação — Relatório e Matriz de Confusão"
      ]
    },
    {
      "cell_type": "code",
      "execution_count": 11,
      "id": "db802826",
      "metadata": {
        "trusted": true
      },
      "outputs": [
        {
          "name": "stdout",
          "output_type": "stream",
          "text": [
            "\u001b[1m560/560\u001b[0m \u001b[32m━━━━━━━━━━━━━━━━━━━━\u001b[0m\u001b[37m\u001b[0m \u001b[1m4s\u001b[0m 6ms/step\n",
            "Relatório de classificação (por patches):\n",
            "              precision    recall  f1-score   support\n",
            "\n",
            "      Benign       0.36      0.48      0.41     11938\n",
            "   Malignant       0.36      0.58      0.44     11938\n",
            "      Normal       0.30      0.01      0.02     11938\n",
            "\n",
            "    accuracy                           0.36     35814\n",
            "   macro avg       0.34      0.36      0.29     35814\n",
            "weighted avg       0.34      0.36      0.29     35814\n",
            "\n",
            "Matriz de confusão (ordem dos rótulos = encoder):\n",
            "[[5754 6007  177]\n",
            " [4958 6884   96]\n",
            " [5459 6362  117]]\n"
          ]
        },
        {
          "data": {
            "image/png": "[encoded data removed]",
            "text/plain": [
              "<Figure size 500x400 with 1 Axes>"
            ]
          },
          "metadata": {},
          "output_type": "display_data"
        }
      ],
      "source": [
        "all_labels = np.arange(n_classes)\n",
        "all_names  = list(le.classes_)\n",
        "y_pred = model.predict(X_test, batch_size=BATCH_SIZE) if len(X_test) else np.empty((0, n_classes))\n",
        "y_hat  = np.argmax(y_pred, axis=1) if len(X_test) else np.array([], dtype=int)\n",
        "\n",
        "print('Relatório de classificação (por patches):')\n",
        "print(classification_report(y_test, y_hat, labels=all_labels, target_names=all_names, zero_division=0))\n",
        "\n",
        "cm = confusion_matrix(y_test, y_hat, labels=all_labels)\n",
        "print('Matriz de confusão (ordem dos rótulos = encoder):')\n",
        "print(cm)\n",
        "\n",
        "plt.figure(figsize=(5,4))\n",
        "plt.imshow(cm, aspect='auto')\n",
        "plt.title('Matriz de Confusão (patches)')\n",
        "plt.xlabel('Predito')\n",
        "plt.ylabel('Verdadeiro')\n",
        "plt.xticks(ticks=all_labels, labels=all_names, rotation=45)\n",
        "plt.yticks(ticks=all_labels, labels=all_names)\n",
        "for i in range(cm.shape[0]):\n",
        "    for j in range(cm.shape[1]):\n",
        "        plt.text(j, i, str(cm[i, j]), ha='center', va='center')\n",
        "plt.tight_layout()\n",
        "plt.show()\n"
      ]
    },
    {
      "cell_type": "markdown",
      "id": "70f367db",
      "metadata": {},
      "source": [
        "# Interpretação dos resultados (classificação por *patches*)\n",
        "\n",
        "## Métricas principais\n",
        "\n",
        "- **Accuracy = 0,36 (36%)**  \n",
        "  Proporção total de acertos em 35.814 *patches*. O modelo acerta pouco acima do acaso (3 classes → 33%), indicando que ainda não separa bem os padrões das classes.\n",
        "\n",
        "- **Support**  \n",
        "  Número de amostras por classe no conjunto de teste (aqui, balanceadas por undersampling):  \n",
        "  Benign = 11.938 | Malignant = 11.938 | Normal = 11.938.\n",
        "\n",
        "- **Precision (Precisão)**: entre as predições de uma classe, quantas estão corretas?\n",
        "  - **Benign = 0,36** → de cada 100 *patches* previstos como “Benign”, ~36 são realmente “Benign”.\n",
        "  - **Malignant = 0,36** → de cada 100 previstos como “Malignant”, ~36 são realmente “Malignant”.\n",
        "  - **Normal = 0,30** → de cada 100 previstos como “Normal”, ~30 são realmente “Normal”.\n",
        "  \n",
        "- **Recall (Revocação/Sensibilidade)**: entre os *patches* realmente da classe, quantos o modelo recupera?\n",
        "  - **Benign = 0,48** → recupera 48% dos *patches* benignos.\n",
        "  - **Malignant = 0,58** → recupera 58% dos malignos (melhor classe do modelo).\n",
        "  - **Normal = 0,01** → praticamente **não recupera** *patches* normais (forte fraqueza).\n",
        "\n",
        "- **F1-score** (harmônica de precision e recall):  \n",
        "  - **Benign = 0,41**, **Malignant = 0,44**, **Normal = 0,02** (muito baixo, puxado pelo recall ≈ 0).\n",
        "\n",
        "- **Macro avg** (média simples entre classes):  \n",
        "  Precision = 0,34 | Recall = 0,36 | F1 = 0,29 → reflete o desempenho ruim em “Normal”.\n",
        "\n",
        "- **Weighted avg** (média ponderada pelo support):  \n",
        "  Próxima à macro porque as classes têm support igual; também ≈ 0,34–0,36–0,29.\n",
        "\n",
        "---\n",
        "\n",
        "### Leitura por classe\n",
        "\n",
        "- **Benign (linha 1):**  \n",
        "  5.754 acertos (Benign→Benign) e 6.007 erros como **Malignant**. O modelo confunde muito “Benign” com “Malignant”.\n",
        "\n",
        "- **Malignant (linha 2):**  \n",
        "  6.884 acertos (melhor linha) e 4.958 erros como **Benign**. É a classe mais “recuperada” (recall 0,58), mas ainda com muita confusão com “Benign”.\n",
        "\n",
        "- **Normal (linha 3):**  \n",
        "  Apenas **117 acertos** (Normal→Normal), **5.459** confundidos com **Benign** e **6.362** com **Malignant**.  \n",
        "  → **Principal gargalo:** o modelo quase nunca reconhece *patches* realmente “Normal”.\n",
        "\n",
        "---\n",
        "\n",
        "## O que esses números nos dizem\n",
        "1. **Tendência a prever “lesão”** (Benign/Malignant) para quase tudo: “Normal” raramente é previsto (recall 1%).  \n",
        "2. **Benign × Malignant**: há **forte confusão mútua**; o modelo captura malignos com recall razoável (0,58), mas sua precisão ainda é baixa (0,36).\n",
        "3. **Acima do acaso, mas pouco**: accuracy 0,36 sugere que o modelo aprendeu algum padrão, porém ainda insuficiente para separações clínicas úteis no nível de *patch*.\n",
        "\n",
        "---"
      ]
    }
  ],
  "metadata": {
    "kernelspec": {
      "display_name": "venv",
      "language": "python",
      "name": "python3"
    },
    "language_info": {
      "codemirror_mode": {
        "name": "ipython",
        "version": 3
      },
      "file_extension": ".py",
      "mimetype": "text/x-python",
      "name": "python",
      "nbconvert_exporter": "python",
      "pygments_lexer": "ipython3",
      "version": "3.12.4"
    }
  },
  "nbformat": 4,
  "nbformat_minor": 5
}
